{
  "cells": [
    {
      "cell_type": "markdown",
      "metadata": {
        "id": "fZlqjhZ5Ga-r"
      },
      "source": [
        "# Instalação Pyomo"
      ]
    },
    {
      "cell_type": "code",
      "execution_count": null,
      "metadata": {
        "id": "9CZqWxDt1LfX"
      },
      "outputs": [],
      "source": [
        "#!pip install -q pyomo\n",
        "!pip install pyomo\n",
        "!pip install openpyxl\n",
        "!pip install xlrd"
      ]
    },
    {
      "cell_type": "code",
      "execution_count": null,
      "metadata": {
        "id": "Rgz_vP_fZiRE"
      },
      "outputs": [],
      "source": [
        "!pip show pyomo\n"
      ]
    },
    {
      "cell_type": "code",
      "execution_count": null,
      "metadata": {
        "id": "kwH80h641Ptp"
      },
      "outputs": [],
      "source": [
        "import os # Manipular caminhos de arquivos, criar/deletar diretórios\n",
        "import numpy as np\n",
        "import pandas as pd\n",
        "import matplotlib.pyplot as plt\n",
        "import sympy as sp\n",
        "import pyomo.environ as pyo\n",
        "#from scipy.interpolate import interp1d\n",
        "from pyomo.opt import SolverFactory\n",
        "from pyomo.dae import ContinuousSet, DerivativeVar, Integral\n",
        "from pyomo.environ import NonNegativeReals, exp, TransformationFactory"
      ]
    },
    {
      "cell_type": "markdown",
      "metadata": {
        "id": "m_otmqZOAL7c"
      },
      "source": [
        "# Instalação IPOPT"
      ]
    },
    {
      "cell_type": "code",
      "execution_count": null,
      "metadata": {
        "id": "5Ea3WlvDExf_"
      },
      "outputs": [],
      "source": [
        "from pyomo.environ import *\n",
        "!wget -N -q \"https://matematica.unipv.it/gualandi/solvers/ipopt-linux64.zip\"\n",
        "!unzip -o -q ipopt-linux64"
      ]
    },
    {
      "cell_type": "code",
      "execution_count": null,
      "metadata": {
        "id": "3lhrzMQGAUq3"
      },
      "outputs": [],
      "source": [
        "!apt-get remove --purge -y coinor-libipopt-dev\n",
        "!apt-get install -y coinor-libipopt-dev"
      ]
    },
    {
      "cell_type": "code",
      "execution_count": null,
      "metadata": {
        "id": "rlePkJj0PAdd"
      },
      "outputs": [],
      "source": [
        "# Atualizar a biblioteca libstdc++6 (necessária para resolver dependências de versão)\n",
        "!apt-get install -y libstdc++6"
      ]
    },
    {
      "cell_type": "code",
      "execution_count": null,
      "metadata": {
        "id": "gifBjBwRAadB"
      },
      "outputs": [],
      "source": [
        "# Executar o comando para encontrar o executável do IPOPT\n",
        "ipopt_path = !find / -name \"ipopt\" 2>/dev/null\n",
        "\n",
        "# Verificar se o comando encontrou algo\n",
        "if ipopt_path:\n",
        "    print(f\"O executável do IPOPT foi encontrado em: {ipopt_path[0]}\")\n",
        "else:\n",
        "    print(\"O comando 'find' não encontrou o executável do IPOPT.\")\n",
        "\n",
        "#Resultado deu diretório no Colab - /content/ipopt"
      ]
    },
    {
      "cell_type": "code",
      "execution_count": null,
      "metadata": {
        "id": "e4VZrK_tTo5X"
      },
      "outputs": [],
      "source": [
        "# Importar o solver IPOPT\n",
        "solver = SolverFactory('ipopt')\n",
        "\n",
        "# Verificar as opções padrão do solver\n",
        "print(solver.options)\n",
        "\n",
        "# Definir e configurar opções específicas do solver\n",
        "solver.options['tol'] = 1e-6  # Definir a tolerância do solver\n",
        "solver.options['max_iter'] = 50000  # Definir o número máximo de iterações\n",
        "solver.options['print_level'] = 3  # Definir o nível de impressão de saída"
      ]
    },
    {
      "cell_type": "code",
      "execution_count": null,
      "metadata": {
        "id": "oBEkqVb_T7eM"
      },
      "outputs": [],
      "source": [
        "print(solver.options)"
      ]
    },
    {
      "cell_type": "markdown",
      "metadata": {
        "id": "6iai69aF0U_g"
      },
      "source": [
        "# Importando as funções de custo marginais"
      ]
    },
    {
      "cell_type": "code",
      "execution_count": null,
      "metadata": {
        "id": "7OA3mf_5HD5V"
      },
      "outputs": [],
      "source": [
        "from google.colab import drive\n",
        "drive.mount('/content/drive')\n",
        "\n",
        "import pickle\n",
        "\n",
        "# Função custo marginal não é dependente de (t).\n",
        "# Carregar o dicionário 'resultados' do arquivo .pkl no Google Drive\n",
        "with open('/content/drive/MyDrive/funções_outubro/formulas_combinadas.pkl', 'rb') as f:\n",
        "    resultados = pickle.load(f)\n",
        "\n",
        "# Verificar as chaves para confirmar que os dados foram carregados corretamente\n",
        "print(resultados.keys())"
      ]
    },
    {
      "cell_type": "code",
      "execution_count": null,
      "metadata": {
        "id": "jw8fHhTEYB59"
      },
      "outputs": [],
      "source": [
        "# Função para imprimir as fórmulas\n",
        "def imprimir_fórmulas(resultados):\n",
        "    for setor, formula in resultados.items():\n",
        "        print(f\"\\nFórmula simbólica para o setor {setor}: {formula}\")\n",
        "\n",
        "# Chamar a função para imprimir as fórmulas\n",
        "imprimir_fórmulas(resultados)"
      ]
    },
    {
      "cell_type": "markdown",
      "metadata": {
        "id": "bYeSYWON01zl"
      },
      "source": [
        "# Definindo o modelo"
      ]
    },
    {
      "cell_type": "code",
      "execution_count": null,
      "metadata": {
        "id": "aBp4XdGr0zK1"
      },
      "outputs": [],
      "source": [
        "# Definir o modelo\n",
        "model = pyo.ConcreteModel()"
      ]
    },
    {
      "cell_type": "markdown",
      "metadata": {
        "id": "cHyTwBd1fPpc"
      },
      "source": [
        "# Bloco 1: Definindo variáveis"
      ]
    },
    {
      "cell_type": "code",
      "execution_count": null,
      "metadata": {
        "id": "59kHTPPjx3YJ"
      },
      "outputs": [],
      "source": [
        "# Carregar os dados da planilha Excel\n",
        "excel_file = '/content/drive/MyDrive/CÓDIGO DEZEMBRO/TESTE SEM PICO Linear_21_11 - Copia.xlsx'\n",
        "df = pd.read_excel(excel_file, sheet_name='Planilha1')\n",
        "\n",
        "# Definir 'Setores' como índice\n",
        "df = df.set_index('Setores')\n",
        "\n",
        "# Certifique-se de que os nomes dos setores não tenham espaços adicionais\n",
        "df.index = [setor.strip() for setor in df.index]\n",
        "\n",
        "# Verificar a estrutura do DataFrame após limpar os nomes dos setores\n",
        "print(\"Setores após remoção de espaços:\", df.index)\n",
        "\n",
        "# Definir os setores como um conjunto em Pyomo\n",
        "model.setores = pyo.Set(initialize=df.index)\n"
      ]
    },
    {
      "cell_type": "code",
      "execution_count": null,
      "metadata": {
        "id": "Vd6HCToFdw1X"
      },
      "outputs": [],
      "source": [
        "# Criar o dicionário 'dados_l_i0' a partir do DataFrame transformado\n",
        "dados_l_i0 = df.T.to_dict()\n",
        "\n",
        "# Verificar o conteúdo do dicionário 'dados_l_i0'\n",
        "print(\"Conteúdo de dados_l_i0:\")\n",
        "for setor, valores in dados_l_i0.items():\n",
        "    print(f\"Setor: {setor}, Valores: {valores}\")"
      ]
    },
    {
      "cell_type": "code",
      "execution_count": null,
      "metadata": {
        "id": "qswKMjD3ebW0"
      },
      "outputs": [],
      "source": [
        "## ------------- VERIFICAÇÃO ---------------##\n",
        "\n",
        "# Carregar os dados da planilha Excel\n",
        "excel_file = '/content/drive/MyDrive/CÓDIGO DEZEMBRO/TESTE SEM PICO Linear_21_11 - Copia.xlsx'\n",
        "df = pd.read_excel(excel_file, sheet_name='Planilha1')\n",
        "\n",
        "# Exibir as primeiras linhas do DataFrame para verificar a formatação\n",
        "print(\"Primeiras linhas do DataFrame:\")\n",
        "print(df.head())\n",
        "\n",
        "# Verificar se há valores ausentes\n",
        "print(\"\\nVerificando valores ausentes:\")\n",
        "print(df.isnull().sum())  # Exibe a soma de valores ausentes por coluna\n",
        "\n",
        "# Verificar tipos de dados das colunas\n",
        "print(\"\\nTipos de dados das colunas:\")\n",
        "print(df.dtypes)\n",
        "\n",
        "# Certificar-se de que as colunas de tempo estão no formato correto\n",
        "# Agora identificar as colunas de tempo como as que são do tipo 'int' (não mais usando 'startswith')\n",
        "tempos = [col for col in df.columns if isinstance(col, int)]\n",
        "print(\"\\nColunas de tempo identificadas:\", tempos)\n",
        "\n",
        "# Verificar se as colunas de tempo têm valores numéricos (garantir que são inteiros ou floats)\n",
        "for col in tempos:\n",
        "    if not pd.api.types.is_numeric_dtype(df[col]):\n",
        "        print(f\"A coluna {col} não é numérica.\")\n",
        "    else:\n",
        "        print(f\"A coluna {col} é numérica e contém valores do tipo {df[col].dtype}.\")"
      ]
    },
    {
      "cell_type": "markdown",
      "metadata": {
        "id": "-jWsNcFlvqUu"
      },
      "source": [
        "# Bloco 1: Definindo conjuntos"
      ]
    },
    {
      "cell_type": "code",
      "execution_count": null,
      "metadata": {
        "id": "4MCeV34lm6Ln"
      },
      "outputs": [],
      "source": [
        "# CONJUNTOS DE TEMPOS\n",
        "\n",
        "# Extrair os tempos dos nomes das colunas e definir o conjunto de tempo contínuo\n",
        "# Definir 'tempos' como uma lista das colunas do DataFrame que já são números inteiros\n",
        "tempos = [col for col in df.columns if isinstance(col, int)]\n",
        "\n",
        "# Verificar os tipos dos elementos de 'tempos' para garantir que a conversão foi bem-sucedida\n",
        "print(\"Tempos identificados:\", tempos)\n",
        "print(\"Tipos dos valores em 'tempos':\", [type(t) for t in tempos])\n",
        "\n",
        "# Verificar se todos os valores em 'tempos' são inteiros\n",
        "if all(isinstance(t, int) for t in tempos):\n",
        "    # Definir o conjunto de tempo contínuo com os nós explícitos em 'tempos'\n",
        "    model.time = ContinuousSet(bounds=(min(tempos), max(tempos)), initialize=tempos)\n",
        "    print(f\"Conjunto de tempo contínuo com limites: ({min(tempos)}, {max(tempos)}) e nós: {tempos}\")\n",
        "else:\n",
        "    print(\"Erro: O conjunto 'tempos' contém valores não inteiros e não pode ser usado para definir 'model.time'.\")\n"
      ]
    },
    {
      "cell_type": "code",
      "execution_count": null,
      "metadata": {
        "id": "L2KyH1rrkygn"
      },
      "outputs": [],
      "source": [
        "# CONJUNTOS SETORES\n",
        "\n",
        "# Definir o conjunto setores como o conjunto de nomes lidos da planilha\n",
        "\n",
        "# Inicializar o conjunto 'setores' com base nas chaves do dicionário 'dados_l_i0'\n",
        "model.setores = pyo.Set(initialize=dados_l_i0.keys())\n",
        "print(\"Setores no modelo:\", list(model.setores))\n"
      ]
    },
    {
      "cell_type": "markdown",
      "metadata": {
        "id": "9ftRhkcIvx6w"
      },
      "source": [
        "# Bloco 1: Definindo parâmetros"
      ]
    },
    {
      "cell_type": "code",
      "execution_count": null,
      "metadata": {
        "id": "FzudbLgRkeh6"
      },
      "outputs": [],
      "source": [
        "## DEFININDO PARÂMETRO l_i0\n",
        "\n",
        "# Agora, o parâmetro l_i0 é inicializado como um valor constante para cada faixa de tempo.\n",
        "# Tive de fazer isso, pois percebi que na v1 o tempo era contínuo, integração da função objetivo contínua ao longo do tempo,\n",
        "# mas os dados de l_i0 eram discretos. Essa opção é mais próxima da realidade de um programa do que tornar o número de licenças contínuo.\n",
        "\n",
        "# Função degrau para definir l_i0 como constante dentro dos períodos de tempo definidos\n",
        "def l_i0_step_function(model, setor, t):\n",
        "    # Obter os tempos conhecidos diretamente como inteiros\n",
        "    tempos_setor = [col for col in dados_l_i0[setor].keys() if isinstance(col, int)]\n",
        "    tempos_setor.sort()  # Ordenar tempos para garantir a ordem correta\n",
        "\n",
        "    # Verificar se t é exatamente igual a um dos tempos conhecidos\n",
        "    if t in tempos_setor:\n",
        "        return dados_l_i0[setor][t]\n",
        "\n",
        "    # Verificar em qual intervalo de tempo o 't' se encontra, agora corrigido para valores intermediários\n",
        "    for i in range(len(tempos_setor) - 1):\n",
        "        if tempos_setor[i] <= t < tempos_setor[i + 1]:  # Usar < para garantir que o intervalo seja capturado corretamente\n",
        "            return dados_l_i0[setor][tempos_setor[i]]\n",
        "\n",
        "    # Se 't' for maior que o último valor conhecido, retorna o último valor\n",
        "    return dados_l_i0[setor][tempos_setor[-1]]\n",
        "\n",
        "# Definir l_i0 como uma expressão que usa a função degrau\n",
        "model.l_i0_expr = pyo.Expression(model.setores, model.time, rule=l_i0_step_function)\n",
        "\n",
        "# Verificar a expressão para garantir que tudo está funcionando corretamente\n",
        "print(\"\\n--- Impressão dos valores de l_i0 para todos os tempos e setores ---\")\n",
        "for setor in model.setores:\n",
        "    for t in model.time:\n",
        "        try:\n",
        "            valor_l_i0 = pyo.value(model.l_i0_expr[setor, t])\n",
        "            print(f\"l_i0_expr[{setor}, {t}] = {valor_l_i0}\")\n",
        "        except KeyError as e:\n",
        "            print(f\"Erro ao acessar l_i0_expr[{setor}, {t}]: {e}\")\n",
        "        except Exception as e:\n",
        "            print(f\"Outro erro ao acessar l_i0_expr[{setor}, {t}]: {e}\")\n",
        "\n",
        "\n",
        "\n"
      ]
    },
    {
      "cell_type": "code",
      "execution_count": null,
      "metadata": {
        "id": "bS5Hr0hHgCTo"
      },
      "outputs": [],
      "source": [
        "# Verificar todos os valores de l_i0 antes da transformação DAE\n",
        "for t in model.time:\n",
        "    for setor in model.setores:\n",
        "        print(f\"l_i0[{setor}, {t}] = {model.l_i0_expr[setor, t]}\")"
      ]
    },
    {
      "cell_type": "code",
      "execution_count": null,
      "metadata": {
        "collapsed": true,
        "id": "8Zv5HmFTfnq3"
      },
      "outputs": [],
      "source": [
        "## DEFININDO PARÂMETRO L_0\n",
        "\n",
        "# Definir o valor total de L_0 como função do tempo\n",
        "def L_0_init(model, t):\n",
        "    # Usar model.l_i0_expr em vez de model.l_i0 e pyo.value para extrair o valor da Expression\n",
        "    soma_l_i0 = sum(pyo.value(model.l_i0_expr[i, t]) for i in model.setores)\n",
        "    return soma_l_i0  # Retorna a soma como L_0 para o tempo 't'\n",
        "\n",
        "# Definir L_0 como um parâmetro usando a função corrigida\n",
        "model.L_0 = pyo.Param(model.time, initialize=L_0_init, mutable=True)\n",
        "\n",
        "# Verificação da soma de l_i0 usando a Expression l_i0_expr\n",
        "def verificar_soma_l_i0(model, t):\n",
        "    soma = sum(pyo.value(model.l_i0_expr[i, t]) for i in model.setores)\n",
        "    if abs(soma - pyo.value(model.L_0[t])) < 1e-6:\n",
        "        print(f\"A soma de l_i0 no tempo {t} é igual a L_0.\")\n",
        "    else:\n",
        "        print(f\"A soma de l_i0 no tempo {t} ({soma}) não é igual a L_0 ({pyo.value(model.L_0[t])}).\")\n",
        "\n",
        "# Verificar a soma de l_i0 em um dado tempo\n",
        "verificar_soma_l_i0(model, 0)\n",
        "verificar_soma_l_i0(model, 1)\n",
        "\n",
        "# Exibir os parâmetros\n",
        "model.l_i0_expr.pprint()\n",
        "model.L_0.pprint()"
      ]
    },
    {
      "cell_type": "code",
      "execution_count": null,
      "metadata": {
        "id": "6CP_XMYVf7MF"
      },
      "outputs": [],
      "source": [
        "# Definir uma lista de tempos para visualização\n",
        "tempos_visuais = list(np.linspace(min(tempos), max(tempos), 100))  # 100 pontos ao longo do intervalo de tempo\n",
        "\n",
        "# Encontrar os pontos mais próximos em 'model.time' para cada valor de 'tempos_visuais'\n",
        "tempos_model = np.array(list(model.time))  # Converter model.time para uma lista de pontos\n",
        "valores_L_0 = []\n",
        "\n",
        "for t in tempos_visuais:\n",
        "    # Encontrar o ponto mais próximo em 'model.time' para o valor 't'\n",
        "    t_proximo = tempos_model[np.abs(tempos_model - t).argmin()]\n",
        "    valores_L_0.append(pyo.value(model.L_0[t_proximo]))\n",
        "\n",
        "# Plotar o comportamento de L_0 ao longo do tempo\n",
        "plt.plot(tempos_visuais, valores_L_0, marker='o')\n",
        "plt.xlabel('Tempo')\n",
        "plt.ylabel('L_0')\n",
        "plt.title('Comportamento de L_0 ao longo do tempo')\n",
        "plt.grid(True)\n",
        "plt.show()\n",
        "\n",
        "# Verificar e imprimir valores de l_i0_expr e L_0\n",
        "for setor in model.setores:\n",
        "    for t in model.time:\n",
        "        print(f\"l_i0_expr[{setor}, {t}]: {pyo.value(model.l_i0_expr[setor, t])}\")\n",
        "        print(f\"L_0[{t}]: {pyo.value(model.L_0[t])}\")\n"
      ]
    },
    {
      "cell_type": "code",
      "execution_count": null,
      "metadata": {
        "id": "lNJKuDD10sHm"
      },
      "outputs": [],
      "source": [
        "r = 0.10  # Taxa de desconto\n",
        "model.r = pyo.Param(initialize=r)  # Taxa de desconto"
      ]
    },
    {
      "cell_type": "markdown",
      "metadata": {
        "id": "OfmSEUwMv7VX"
      },
      "source": [
        "# Bloco 1: Definindo variáveis"
      ]
    },
    {
      "cell_type": "code",
      "execution_count": null,
      "metadata": {
        "id": "Vtq6dbrex9sN"
      },
      "outputs": [],
      "source": [
        "# VARIÁVEIS DE CONTROLE DOS SETORES\n",
        "# Variável de ajuste, de fato, o cap é sobre a emissão\n",
        "\n",
        "model.e_i = pyo.Var(model.setores, model.time, bounds=(0.00001, None))  # Evita zero exato\n",
        "model.l_i = pyo.Var(model.setores, model.time, bounds=(0.00001, None))  # Evita zero exato\n",
        "\n",
        "model.p = pyo.Var(model.time, bounds=(0.0001, 100))  # Evita zero exato para o preço\n"
      ]
    },
    {
      "cell_type": "code",
      "execution_count": null,
      "metadata": {
        "id": "vN7pLsJD9M4S"
      },
      "outputs": [],
      "source": [
        "# VARIÁVEL DE ESTADO DOS SETORES\n",
        "\n",
        "# a variável de estado depende da variável de controle, e as decisões sobre a variável de controle e_i(t)\n",
        "# estoque de permissões é influenciado pelas decisões tomadas sobre e_i(t) e segue a dinâmica\n",
        "# especificada pela equação diferencial.\n",
        "\n",
        "# Definir a variável de estado B_i\n",
        "model.B_i = pyo.Var(model.setores, model.time, within=pyo.NonNegativeReals)  # Estoque de emissões bancadas (não pode ser negativo)\n",
        "\n",
        "# Fixar a condição inicial para B_i no tempo inicial (t = 0)\n",
        "for setor in model.setores:\n",
        "    model.B_i[setor, model.time.first()].fix(0)  # B_i(0) = 0 para todos os setores\n",
        "\n",
        "# Definir a derivada de B_i em relação ao tempo\n",
        "model.dB_idt = DerivativeVar(model.B_i, wrt=model.time)  # Taxa de variação de B_i"
      ]
    },
    {
      "cell_type": "code",
      "execution_count": null,
      "metadata": {
        "id": "F149x5Dz8wJf"
      },
      "outputs": [],
      "source": [
        "# VARIÁVEIS DE CONTROLE DO REGULADOR\n",
        "\n",
        "# Valor total de E_i como função do tempo\n",
        "\n",
        "# Use model.E como uma variável de controle no problema de otimização.\n",
        "# Relacionar model.E com a soma de model.e_i através de uma lógica de restrição, mas sem forçar\n",
        "# a restrição de forma que ela atue como uma soft constraint.\n",
        "\n",
        "# Definir a variável agregada E para representar a soma das emissões ao longo do tempo\n",
        "model.E = pyo.Var(model.time, within=pyo.NonNegativeReals)  # Variável agregada de emissões\n",
        "\n",
        "# Criar uma restrição para associar E à soma das emissões setoriais e_i\n",
        "def associar_emissoes_aggregate(model, t):\n",
        "    return model.E[t] == sum(model.e_i[i, t] for i in model.setores)\n",
        "\n",
        "# Adicionar a restrição de consistência para cada instante de tempo\n",
        "model.associar_emissoes = pyo.Constraint(model.time, rule=associar_emissoes_aggregate)\n",
        "\n",
        "# Adicionar uma função objetivo neutra (ou de placeholder) para garantir que o solver funcione\n",
        "# Isso é apenas para permitir a execução do modelo sem violar a estrutura de Pyomo.\n",
        "#model.obj = pyo.Objective(expr=0, sense=pyo.minimize)"
      ]
    },
    {
      "cell_type": "code",
      "execution_count": null,
      "metadata": {
        "id": "HqsPhj57A_f5"
      },
      "outputs": [],
      "source": [
        "# VARIÁVEL DE ESTADO DO REGULADOR\n",
        "\n",
        "# Definir a soma de todos os estoques B_i como uma expressão para o estoque total B_total em cada instante de tempo\n",
        "def soma_B_total_rule(model, t):\n",
        "    return sum(model.B_i[i, t] for i in model.setores)\n",
        "model.B_total = pyo.Expression(model.time, rule=soma_B_total_rule) # Criar a expressão para o estoque total B_total em cada instante de tempo\n",
        "\n",
        "# Definir uma variável de estoque total para usar com DerivativeVar\n",
        "model.B_total_var = pyo.Var(model.time, within=pyo.NonNegativeReals)\n",
        "\n",
        "# Fixar a condição inicial para B_total_var no tempo inicial (t = 0)\n",
        "model.B_total_var[model.time.first()].fix(0)  # Define B_total_var(0) = 0\n",
        "\n",
        "# Definir a derivada do estoque total B_total_var em relação ao tempo\n",
        "model.dB_total_dt = DerivativeVar(model.B_total_var, wrt=model.time)\n",
        "\n",
        "# Criar uma restrição para garantir que model.B_total_var seja igual a model.B_total em cada instante de tempo\n",
        "def consistency_rule(model, t):\n",
        "    return model.B_total_var[t] == model.B_total[t]\n",
        "\n",
        "# Adicionar a restrição de consistência ao modelo\n",
        "model.consistency_constraint = pyo.Constraint(model.time, rule=consistency_rule)\n"
      ]
    },
    {
      "cell_type": "markdown",
      "metadata": {
        "id": "9tYl5l-cPjc0"
      },
      "source": [
        "# Bloco 2: Inicialização"
      ]
    },
    {
      "cell_type": "code",
      "execution_count": null,
      "metadata": {
        "collapsed": true,
        "id": "P3mIvyu1gx0b"
      },
      "outputs": [],
      "source": [
        "def initialize_variables(model):\n",
        "    print(\"Inicializando variáveis...\")  # Verificação inicial\n",
        "\n",
        "    #valor_manual_E = 0  # Inicializar a variável para armazenar a soma\n",
        "\n",
        "    # Inicializar variáveis para t=0\n",
        "    for setor in model.setores:\n",
        "        for t in model.time:\n",
        "            if t == model.time.first():  # Fixar apenas para t=0\n",
        "                if setor == 'Celulose':\n",
        "                    valor_inicial_e_i = 5901419 / 1000\n",
        "                elif setor == 'Cimento':\n",
        "                    valor_inicial_e_i = 34224339 / 1000\n",
        "                elif setor == 'VidCerm':\n",
        "                    valor_inicial_e_i = 4561417 / 1000\n",
        "                elif setor == 'FerroGussa':\n",
        "                    valor_inicial_e_i = 51117070 / 1000\n",
        "                elif setor == 'ProdutosMet':\n",
        "                    valor_inicial_e_i = 11361545 / 1000\n",
        "                elif setor == 'Saneamento':\n",
        "                    valor_inicial_e_i = 85744711 / 1000\n",
        "                elif setor == 'PetroGas':\n",
        "                    valor_inicial_e_i = 25821432 / 1000\n",
        "                elif setor == 'UTC':\n",
        "                    valor_inicial_e_i = 7541320/ 1000\n",
        "                elif setor == 'UTG':\n",
        "                    valor_inicial_e_i = 12172604/ 1000\n",
        "                elif setor == 'UTOD':\n",
        "                    valor_inicial_e_i = 2425250/ 1000\n",
        "                elif setor == 'UTOC':\n",
        "                    valor_inicial_e_i = 30198/ 1000\n",
        "                elif setor == 'TranspCarga':\n",
        "                    valor_inicial_e_i = 114937896/ 1000\n",
        "                elif setor == 'TransPass':\n",
        "                    valor_inicial_e_i = 92843424/ 1000\n",
        "                elif setor == 'TransAere':\n",
        "                    valor_inicial_e_i = 9549379/ 1000\n",
        "\n",
        "                # Fixar o valor de e_i[setor, t] para t=0\n",
        "                model.e_i[setor, t].fix(valor_inicial_e_i)\n",
        "                print(f\"Inicializando e_i[{setor}, {t}] com valor {valor_inicial_e_i} para t=0\")\n",
        "\n",
        "                model.dB_idt[setor, t].fix(0)\n",
        "                print(f\"fixando dB_idt[{setor}, {t}] para t=0\")\n",
        "\n",
        "    # Inicializar o preço p e outras variáveis globais apenas para t=0\n",
        "    for t in model.time:\n",
        "        if t == model.time.first():\n",
        "            print(f\"Inicializando p[{t}] para t=0\")\n",
        "            model.p[t].set_value(3)\n",
        "\n",
        "    print(\"Inicialização e verificação concluídas.\")\n",
        "\n",
        "    # Impressão dos valores após inicialização\n",
        "    for setor in model.setores:\n",
        "        for t in model.time:\n",
        "            print(f\"Setor: {setor}, Tempo: {t}\")\n",
        "            print(f\"e_i[{setor}, {t}] = {model.e_i[setor, t].value}\")\n",
        "            print(f\"p[{t}] = {model.p[t].value}\")\n",
        "\n",
        "# Certifique-se de que a função seja chamada corretamente\n",
        "initialize_variables(model)\n"
      ]
    },
    {
      "cell_type": "code",
      "execution_count": null,
      "metadata": {
        "id": "s50tF1-yeGX2"
      },
      "outputs": [],
      "source": [
        "for setor in model.setores:\n",
        "    for t in model.time:\n",
        "        if t == 0:\n",
        "            print(f\"e_i[{setor}, {t}] fixado em: {model.e_i[setor, t].fixed}\")\n",
        "            print(f\"Valor inicial de e_i[{setor}, {t}]: {model.e_i[setor, t].value}\")\n"
      ]
    },
    {
      "cell_type": "markdown",
      "metadata": {
        "id": "s28LA0x0byTI"
      },
      "source": [
        "# Bloco 3: Discretização"
      ]
    },
    {
      "cell_type": "code",
      "execution_count": null,
      "metadata": {
        "id": "n3mfv99zbxZI"
      },
      "outputs": [],
      "source": [
        "# Transformação DAE antes de resolver o modelo\n",
        "# DAE afeta todas as variáveis que dependem do tempo no modelo\n",
        "\n",
        "TransformationFactory('dae.finite_difference').apply_to(model, nfe=32)"
      ]
    },
    {
      "cell_type": "code",
      "execution_count": null,
      "metadata": {
        "id": "FF4XnzrNqvD3"
      },
      "outputs": [],
      "source": [
        "def verificar_l_i0(model, dados_l_i0):\n",
        "    print(\"\\nVerificação dos valores de l_i0 após a transformação DAE:\\n\")\n",
        "    erros = False\n",
        "\n",
        "    # Extrair os tempos conhecidos do dicionário diretamente como inteiros\n",
        "    setores = list(dados_l_i0.keys())\n",
        "    tempos_setor = [col for col in dados_l_i0[setores[0]].keys() if isinstance(col, int)]\n",
        "    tempos_setor.sort()  # Ordenar tempos para garantir a ordem correta\n",
        "\n",
        "    for t in model.time:\n",
        "        for setor in model.setores:\n",
        "            # Encontrar o intervalo ao qual o tempo pertence\n",
        "            for i in range(len(tempos_setor) - 1):\n",
        "                if tempos_setor[i] <= t < tempos_setor[i + 1]:\n",
        "                    chave = tempos_setor[i]  # Agora a chave é o número inteiro diretamente\n",
        "                    valor_esperado = dados_l_i0[setor][chave]\n",
        "                    break\n",
        "            else:\n",
        "                # Se t for igual ou maior ao último tempo do DataFrame\n",
        "                chave_final = tempos_setor[-1]\n",
        "                valor_esperado = dados_l_i0[setor][chave_final]\n",
        "\n",
        "            try:\n",
        "                valor_modelo = pyo.value(model.l_i0_expr[setor, t])  # Use 'l_i0_expr' para obter o valor correto\n",
        "            except ValueError:\n",
        "                valor_modelo = None\n",
        "\n",
        "            if valor_modelo == valor_esperado:\n",
        "                print(f\"CORRETO: l_i0[{setor}, {t}] = {valor_modelo} (esperado: {valor_esperado})\")\n",
        "            else:\n",
        "                print(f\"ERRO: l_i0[{setor}, {t}] = {valor_modelo} (esperado: {valor_esperado})\")\n",
        "                erros = True\n",
        "\n",
        "    if not erros:\n",
        "        print(\"\\nTodos os valores de l_i0 foram atribuídos corretamente!\\n\")\n",
        "    else:\n",
        "        print(\"\\nAlguns valores de l_i0 estão incorretos!\\n\")\n",
        "\n",
        "# Chamar a função de verificação após a transformação DAE\n",
        "verificar_l_i0(model, dados_l_i0)\n"
      ]
    },
    {
      "cell_type": "markdown",
      "metadata": {
        "id": "9fstUfmtJ2kP"
      },
      "source": [
        "# Bloco 4: Problema da firma"
      ]
    },
    {
      "cell_type": "code",
      "execution_count": null,
      "metadata": {
        "collapsed": true,
        "id": "HJ1ct4u8b-Or"
      },
      "outputs": [],
      "source": [
        " # CRIANDO F_i_FUNCTIONS PARA CADA SETOR\n",
        "\n",
        " # SymPy transforma uma expressão simbólica (do código de compilação das regressões polinomiais setorais)\n",
        " # em uma função númerica para uso na função de otimização.\n",
        "\n",
        "# Criar F_i_functions para cada setor, ajustando a variável conforme necessário\n",
        "F_i_functions = {}\n",
        "for setor, conteudo in resultados.items():\n",
        "    # Verificar se 'conteudo' é uma string e convertê-la para expressão simbólica\n",
        "    if isinstance(conteudo, str):\n",
        "        formula = sp.sympify(conteudo)  # Converte string para expressão simbólica\n",
        "    elif isinstance(conteudo, dict) and 'formula_simbolica' in conteudo:\n",
        "        formula = conteudo['formula_simbolica']\n",
        "    else:\n",
        "        print(f\"Setor {setor} não possui uma fórmula válida. Verifique os dados.\")\n",
        "        continue\n",
        "\n",
        "    # Ajustar a variável 'x' para 'e'\n",
        "    formula = formula.subs('x', sp.Symbol('e'))  # Substitui 'x' por 'e'\n",
        "\n",
        "    # Imprimir a fórmula simbólica após a substituição\n",
        "    print(f\"Fórmula simbólica ajustada para o setor {setor}: {formula}\")\n",
        "\n",
        "    # Criar a função lambdificada com 'e' como variável\n",
        "    try:\n",
        "        F_i_functions[setor] = sp.lambdify('e', formula, 'numpy')\n",
        "        print(f\"Função lambdificada criada para o setor {setor}: {F_i_functions[setor]}\")\n",
        "    except Exception as e:\n",
        "        print(f\"Erro ao lambdificar a fórmula para o setor {setor}: {e}\")\n",
        "\n",
        "# Verificar as funções lambdificadas\n",
        "for setor, func in F_i_functions.items():\n",
        "    print(f\"Função lambdificada para o setor {setor}: {func}\")"
      ]
    },
    {
      "cell_type": "code",
      "execution_count": null,
      "metadata": {
        "id": "EY9Zq2EVGD-G"
      },
      "outputs": [],
      "source": [
        "# Adicione a definição de dt ao modelo, se ainda não estiver definido\n",
        "model.dt = pyo.Param(initialize=0.1, mutable=True)  # Por exemplo, 0.1 como intervalo de tempo. Ajuste conforme necessário."
      ]
    },
    {
      "cell_type": "code",
      "execution_count": null,
      "metadata": {
        "id": "nyEH0BvVS2uc"
      },
      "outputs": [],
      "source": [
        "## ----------------  Objetivo ----------------- ##\n",
        "\n",
        "# Função que define o integrando da \"integral\" para cada setor\n",
        "def objective_integrand_rule(model, s, t):\n",
        "    F_i_func = F_i_functions[s]  # Refere-se à função de custo marginal do setor s\n",
        "    return pyo.exp(-model.r * t) * (F_i_func(model.e_i[s, t]) + model.p[t] * (model.l_i[s, t] - model.l_i0_expr[s, t]))\n",
        "\n",
        "# Aproximação da integral como somatório ao longo do tempo\n",
        "def setor_objective_rule(model, s):\n",
        "    return sum(objective_integrand_rule(model, s, t) for t in model.time) * model.dt\n",
        "\n",
        "# ---------------- Market Clearing -------------- ##\n",
        "\n",
        "# Market clearing 1\n",
        "def market_clearing_1_rule(model, t):\n",
        "    return sum((model.l_i[setor, t] - model.l_i0_expr[setor, t]) for setor in model.setores) == 0\n",
        "\n",
        "# Market Clearing 2: Garante que o preço final é zero se houver estoque ou que o estoque\n",
        "# final é zero se o preço for diferente de zero.\n",
        "def market_clearing_2_rule(model):\n",
        "    return model.p[model.time.last()] * sum(model.B_i[setor, model.time.last()] for setor in model.setores) == 0\n",
        "\n",
        "## ----------------- Restrições ----------------- ##\n",
        "\n",
        "def emission_limit_rule(model, setor, t):\n",
        "    return model.e_i[setor, t] <= model.l_i[setor, t]\n",
        "\n",
        "# Definir a equação dinâmica como uma restrição\n",
        "def balanco_emissao_rule(model, s, t):\n",
        "    if t == model.time.first():\n",
        "        return pyo.Constraint.Skip  # Ignorar a equação dinâmica no tempo inicial\n",
        "    #return model.dB_idt[s, t] == model.l_i0_expr[s, t] - model.e_i[s, t] + (model.l_i[s, t] - model.l_i0_expr[s, t])#diferenciador_setores[s]\n",
        "    return  model.dB_idt[s, t] == model.l_i[s, t] - model.e_i[s, t]\n",
        "\n",
        "\n",
        "## ----- Aplicar Penalidades Progressivas em Intervalos ----- ##\n",
        "\n",
        "# Penalidade por Intervalo - Penalidade por Intervalo: Introduz um aumento escalonado menos abrupto do que a penalidade cúbica, penalizando gradualmente e incentivando uma gestão balanceada das permissões ao longo do temp\n",
        "# Incentivo moderado para o consumo ao longo do tempo: Use a penalidade por intervalo.\n",
        "\n",
        "def penalidade_banking_rule(model, setores): #ESSA FOI A MELHOR\n",
        "    penalidade = 1100 #Ajuste conforme necessário\n",
        "    return sum((1 + (t // 2)) * penalidade * model.B_i[setor, t] for setor in model.setores for t in model.time if t >= 8)\n",
        "\n",
        "# Adiciona a penalidade de banking como uma Expression no modelo\n",
        "model.penalidade_banking = pyo.Expression(model.setores, rule=penalidade_banking_rule)\n"
      ]
    },
    {
      "cell_type": "markdown",
      "metadata": {
        "id": "J1R3YFQR5Jpd"
      },
      "source": [
        "# Bloco 5: Problema do regulador"
      ]
    },
    {
      "cell_type": "code",
      "execution_count": null,
      "metadata": {
        "id": "nQ3kPLGYpme0"
      },
      "outputs": [],
      "source": [
        "# Definir as variáveis simbólicas 'e' e 't' no SymPy\n",
        "e = sp.Symbol('e')\n",
        "t = sp.Symbol('t')  # Definindo 't' como uma variável simbólica\n",
        "\n",
        "# Criar dicionário para armazenar as funções marginais simbólicas de cada setor\n",
        "F_i_symbolic_functions = {}\n",
        "\n",
        "for setor, conteudo in resultados.items():\n",
        "    if isinstance(conteudo, str):\n",
        "        formula = sp.sympify(conteudo)\n",
        "    elif isinstance(conteudo, dict) and 'formula_simbolica' in conteudo:\n",
        "        formula = conteudo['formula_simbolica']\n",
        "    else:\n",
        "        print(f\"Setor {setor} não possui uma fórmula válida. Verifique os dados.\")\n",
        "        continue\n",
        "\n",
        "    # Ajustar a variável 'x' para 'e' e adicionar dependência de 't' se necessário\n",
        "    formula = formula.subs('x', e)  # Aqui você pode adicionar substituições relacionadas a 't', se existirem\n",
        "\n",
        "    # Armazenar a função simbólica no dicionário\n",
        "    F_i_symbolic_functions[setor] = formula\n",
        "\n",
        "# Agregar todas as funções marginais setoriais em uma única função agregada, com 't' incluído\n",
        "F_agregado = sum(F_i_symbolic_functions.values())\n",
        "\n",
        "# Imprimir e lambdificar a função agregada\n",
        "F_agregado_func = sp.lambdify((e, t), F_agregado, 'numpy')"
      ]
    },
    {
      "cell_type": "code",
      "execution_count": null,
      "metadata": {
        "id": "LbAWXqFU5N0v"
      },
      "outputs": [],
      "source": [
        "## --------------- Objetivo --------------------- ##\n",
        "\n",
        "# Função que define o integrando da \"integral\" para o regulador ao longo do tempo\n",
        "def objective_regulator_integrand_rule(model, t):\n",
        "    # Calcular o valor da função agregada para E[t]\n",
        "    valor_func = F_agregado_func(model.E[t],t)  # Use F_agregado_func\n",
        "    return pyo.exp(-model.r * t) * valor_func\n",
        "\n",
        "# Aproximação da integral como somatório ao longo do tempo para o regulador\n",
        "def regulator_objective_rule(model):\n",
        "    return sum(objective_regulator_integrand_rule(model, t) for t in model.time) * model.dt\n",
        "\n",
        "## ----------------- Restrições ----------------- ##\n",
        "\n",
        "# Restrição de balanço dinâmico para o regulador, conforme seu código original\n",
        "def balance_rule(model, t):\n",
        "    return model.dB_total_dt[t] == model.L_0[t] - model.E[t]  # model.E[t] é a soma das emissões agregadas\n"
      ]
    },
    {
      "cell_type": "markdown",
      "metadata": {
        "id": "9bcJLwSDP15l"
      },
      "source": [
        "# Bloco 5: Inicialização"
      ]
    },
    {
      "cell_type": "code",
      "execution_count": null,
      "metadata": {
        "collapsed": true,
        "id": "RpbkLQQYPwnf"
      },
      "outputs": [],
      "source": [
        "initialize_variables(model)"
      ]
    },
    {
      "cell_type": "code",
      "execution_count": null,
      "metadata": {
        "collapsed": true,
        "id": "_IzrZSHPP0aj"
      },
      "outputs": [],
      "source": [
        "# Verificar a definição e inicialização de l_i0_expr\n",
        "for i in model.setores:\n",
        "    for t in model.time:\n",
        "        try:\n",
        "            print(f\"l_i0_expr[{i}, {t}] = {pyo.value(model.l_i0_expr[i, t])}\")\n",
        "        except ValueError:\n",
        "            print(f\"Erro: l_i0_expr[{i}, {t}] não está inicializado corretamente.\")\n",
        "\n",
        "# Corrigir a inicialização de L_0 com tratamento de erros\n",
        "def L_0_init(model, t):\n",
        "    try:\n",
        "        # Verificar se todos os valores em l_i0_expr são válidos\n",
        "        soma_l_i0 = sum(pyo.value(model.l_i0_expr[i, t]) for i in model.setores if model.l_i0_expr[i, t] is not None)\n",
        "\n",
        "        # Verificar se soma_l_i0 é válido\n",
        "        if soma_l_i0 is None:\n",
        "            print(f\"Erro ao inicializar L_0 em t={t}. Usando valor padrão 0.0\")\n",
        "            return 0.0  # Valor padrão em caso de erro\n",
        "\n",
        "        return soma_l_i0\n",
        "    except ValueError:\n",
        "        print(f\"Erro ao inicializar L_0 em t={t}. Usando valor padrão 0.0\")\n",
        "        return 0.0  # Valor padrão em caso de erro\n",
        "\n",
        "# Definir L_0 como um parâmetro usando a função corrigida\n",
        "model.L_0 = pyo.Param(model.time, initialize=L_0_init, mutable=True)\n",
        "\n",
        "# Verificar a inicialização de L_0\n",
        "for t in model.time:\n",
        "    print(f\"L_0[{t}] = {model.L_0[t]}\")\n",
        "\n",
        "# Verificação da soma de l_i0 usando a Expression l_i0_expr\n",
        "def verificar_soma_l_i0(model, t):\n",
        "    try:\n",
        "        soma = sum(pyo.value(model.l_i0_expr[i, t]) for i in model.setores)\n",
        "        if abs(soma - pyo.value(model.L_0[t])) < 1e-6:\n",
        "            print(f\"A soma de l_i0 no tempo {t} é igual a L_0.\")\n",
        "        else:\n",
        "            print(f\"A soma de l_i0 no tempo {t} ({soma}) não é igual a L_0 ({pyo.value(model.L_0[t])}).\")\n",
        "    except ValueError:\n",
        "        print(f\"Erro ao verificar a soma de l_i0 no tempo {t}. Algum valor não foi inicializado corretamente.\")\n",
        "\n",
        "# Verificar a soma de l_i0 em um dado tempo\n",
        "verificar_soma_l_i0(model, 0)\n",
        "verificar_soma_l_i0(model, 1)\n",
        "\n",
        "# Exibir os parâmetros\n",
        "model.l_i0_expr.pprint()\n",
        "model.L_0.pprint()"
      ]
    },
    {
      "cell_type": "markdown",
      "metadata": {
        "id": "l3PAGUK8GQSb"
      },
      "source": [
        "# Bloco 6: Otimização"
      ]
    },
    {
      "cell_type": "code",
      "execution_count": null,
      "metadata": {
        "id": "B0F5yyi9KEIU"
      },
      "outputs": [],
      "source": [
        "def resolver_modelo(model):\n",
        "    solver = pyo.SolverFactory('ipopt')\n",
        "    solver.set_executable('/content/ipopt', validate=False)\n",
        "\n",
        "    resultados_calculados = {}\n",
        "\n",
        "    # Setores: Adiciona as restrições de market clearing globais\n",
        "    model.market_clearing_1 = pyo.Constraint(model.time, rule=market_clearing_1_rule)\n",
        "    model.market_clearing_2 = pyo.Constraint(rule=market_clearing_2_rule)\n",
        "\n",
        "    # Setores: Variável para armazenar explicitamente o Objetivo de Cada Setor (pyo.Var)\n",
        "    model.objective_individual = pyo.Var(model.setores, within=pyo.Reals)\n",
        "\n",
        "    # Setores: Regra para Calcular o Valor da Função Objetivo Individual com a penalidade\n",
        "    def store_objective_individual_rule(model, setor):\n",
        "        return model.objective_individual[setor] == (setor_objective_rule(model, setor) + model.penalidade_banking[setor]) # Penalidade progressiva ao longo do tempo\n",
        "            # + model.penalidade_ultimos_periodos [setor]  # Penalidade extra no último período\n",
        "\n",
        "    # Constraint para garantir o cálculo do objetivo individual\n",
        "    model.store_objective_individual = pyo.Constraint(model.setores, rule=store_objective_individual_rule)\n",
        "\n",
        "    # Regulador: Definir a função objetivo do regulador como uma variável pyo.Var\n",
        "    model.objective_regulator = pyo.Var(within=pyo.Reals)\n",
        "\n",
        "    # Definir a função objetivo do regulador\n",
        "    def store_regulator_objective_rule(model):\n",
        "        return model.objective_regulator == regulator_objective_rule(model)\n",
        "\n",
        "    model.store_regulator_objective = pyo.Constraint(rule=store_regulator_objective_rule)\n",
        "\n",
        "    # Definir uma função objetivo global para combinar firmas e regulador\n",
        "    def objective_rule_global(model):\n",
        "        return sum(model.objective_individual[setor] for setor in model.setores) + model.objective_regulator\n",
        "\n",
        "    model.objective_global = pyo.Objective(rule=objective_rule_global, sense=pyo.minimize)\n",
        "\n",
        "    # Setor: Adiciona as restrições de emissões e dinâmica\n",
        "    model.balanco_emissao = pyo.Constraint(model.setores, model.time, rule=balanco_emissao_rule)\n",
        "    model.emission_limit = pyo.Constraint(model.setores, model.time, rule=emission_limit_rule)\n",
        "\n",
        "    # Regulador: Adicionar a restrição de balanço do regulador\n",
        "    model.balance = pyo.Constraint(model.time, rule=balance_rule)\n",
        "\n",
        "    # Resolver o modelo para todos os setores\n",
        "    result = solver.solve(model, tee=True)\n",
        "\n",
        "    # Armazenar os resultados calculados para cada setor e cada tempo\n",
        "    for setor in model.setores:\n",
        "        # Certifique-se de que cada setor tenha um dicionário para armazenar os valores\n",
        "        resultados_calculados[setor] = {}  # Criar um dicionário para cada setor\n",
        "        for t in model.time:\n",
        "            resultados_calculados[setor][t] = {\n",
        "                'e_i': pyo.value(model.e_i[setor, t]),\n",
        "                'l_i': pyo.value(model.l_i[setor, t]),\n",
        "                'p': pyo.value(model.p[t]),\n",
        "                'B_i': pyo.value(model.B_i[setor, t]) if hasattr(model, 'B_i') else None,\n",
        "                'dB_idt': pyo.value(model.dB_idt[setor, t]) if hasattr(model, 'dB_idt') else None,\n",
        "                'objective_individual': pyo.value(model.objective_individual[setor]),\n",
        "                'objective_global': pyo.value(model.objective_global)\n",
        "            }\n",
        "\n",
        "    # Armazenar os resultados do regulador\n",
        "    resultados_regulador = {}\n",
        "    for t in model.time:\n",
        "        resultados_regulador[t] = {\n",
        "            'objetivo_regulador': pyo.value(model.objective_regulator),\n",
        "            'E': pyo.value(model.E[t]) if hasattr(model, 'E') else None,\n",
        "            'B_total_var': pyo.value(model.B_total_var[t]) if hasattr(model, 'B_total_var') else None,\n",
        "            'dB_total_dt': pyo.value(model.dB_total_dt[t]) if hasattr(model, 'dB_total_dt') else None\n",
        "        }\n",
        "\n",
        "    return resultados_calculados, resultados_regulador"
      ]
    },
    {
      "cell_type": "code",
      "execution_count": null,
      "metadata": {
        "id": "kajMX1GvqiJu"
      },
      "outputs": [],
      "source": [
        "# Resolver o modelo com IPOPT\n",
        "solver = SolverFactory('ipopt')\n",
        "resultado = solver.solve(model, tee=True)\n",
        "\n",
        "# Verificar o status do solver e a condição de terminação\n",
        "if resultado.solver.status == pyo.SolverStatus.ok and resultado.solver.termination_condition == pyo.TerminationCondition.optimal:\n",
        "    print(\"Solver encontrou uma solução ótima.\")\n",
        "    model.solutions.load_from(resultado)\n",
        "elif resultado.solver.termination_condition == pyo.TerminationCondition.infeasible:\n",
        "    print(\"O problema é inviável.\")\n",
        "elif resultado.solver.termination_condition == pyo.TerminationCondition.unbounded:\n",
        "    print(\"O problema é ilimitado.\")\n",
        "else:\n",
        "    print(f\"Solver status: {resultado.solver.status}\")\n",
        "    print(f\"Termination condition: {resultado.solver.termination_condition}\")\n"
      ]
    },
    {
      "cell_type": "code",
      "execution_count": null,
      "metadata": {
        "collapsed": true,
        "id": "sy3agwNiqDw3"
      },
      "outputs": [],
      "source": [
        "# ----- Bloco principal ----- #\n",
        "\n",
        "# Inicializa as variáveis e resolve o modelo\n",
        "# initialize_variables(model)\n",
        "\n",
        "# Resolver o modelo com as condições de market clearing\n",
        "resultados_calculados, resultados_regulador = resolver_modelo(model)  # Desempacotar os dois dicionários\n",
        "\n",
        "# Exibir os resultados detalhados para cada setor e tempo (resultados das firmas)\n",
        "for setor, valores in resultados_calculados.items():\n",
        "    print(f\"\\nSetor: {setor}\")\n",
        "    for t, resultado in valores.items():\n",
        "        print(f\" - Tempo (t): {t}\")\n",
        "        print(f\"   - Emissões (e_i): {resultado['e_i']}\")\n",
        "        print(f\"   - Permissões de emissão adquiridas (l_i): {resultado['l_i']}\")\n",
        "        print(f\"   - Preço (p): {resultado['p']}\")\n",
        "        if 'B_i' in resultado and resultado['B_i'] is not None:\n",
        "            print(f\"   - Estoque (B_i): {resultado['B_i']}\")\n",
        "        if 'dB_idt' in resultado and resultado['dB_idt'] is not None:\n",
        "            print(f\"   - Derivada do Estoque (dB_idt): {resultado['dB_idt']}\")\n",
        "\n",
        "# Exibir os resultados consolidados de objetivo individual e global por setor (resultados das firmas)\n",
        "for setor, valores in resultados_calculados.items():\n",
        "    print(f\"\\nSetor: {setor}\")\n",
        "    # Função objetivo individual e global para o último tempo, pois são acumulados ao longo do tempo\n",
        "    ultima_etapa = list(valores.keys())[-1]\n",
        "    print(f\" - Função objetivo individual: {resultados_calculados[setor][ultima_etapa]['objective_individual']}\")\n",
        "    print(f\" - Função objetivo global: {resultados_calculados[setor][ultima_etapa]['objective_global']}\")\n",
        "\n",
        "# Impressão dos valores de B_i para cada setor e cada tempo após a resolução do modelo\n",
        "for setor in model.setores:\n",
        "    for t in model.time:\n",
        "      print(f\"B_i para setor {setor}, tempo {t}: {pyo.value(model.B_i[setor, t])}\")"
      ]
    },
    {
      "cell_type": "markdown",
      "metadata": {
        "id": "G0L3b6aGkh5t"
      },
      "source": [
        "# Resultados Setores"
      ]
    },
    {
      "cell_type": "code",
      "execution_count": null,
      "metadata": {
        "collapsed": true,
        "id": "m8QhsX5KkmDx"
      },
      "outputs": [],
      "source": [
        "from IPython.display import display  # Importar display para exibir df\n",
        "from matplotlib.backends.backend_pdf import PdfPages"
      ]
    },
    {
      "cell_type": "code",
      "execution_count": null,
      "metadata": {
        "id": "BAmczSHrmomz"
      },
      "outputs": [],
      "source": [
        "# Formatar os resultados das firmas em um df\n",
        "def formatar_resultados_firmas(resultados_calculados):\n",
        "\n",
        "    # Lista para armazenar os dados\n",
        "    dados_tabela_firmas = []\n",
        "\n",
        "    # Iterar pelos setores e tempos\n",
        "    for setor, valores in resultados_calculados.items():\n",
        "        for t, resultado in valores.items():\n",
        "            # Adiciona os resultados das firmas em uma estrutura de tabela\n",
        "            dados_tabela_firmas.append({\n",
        "                'Setor': setor,\n",
        "                'Tempo': t,\n",
        "                'Emissões (e_i)': resultado['e_i'],\n",
        "                'Permissões de emissão (l_i)': resultado['l_i'],\n",
        "                'Preço (p)': resultado['p'],\n",
        "                'Estoque (B_i)': resultado['B_i'] if 'B_i' in resultado else None,\n",
        "                'Derivada do Estoque (dB_idt)': resultado['dB_idt'] if 'dB_idt' in resultado else None,\n",
        "                'Função objetivo individual': resultado['objective_individual']\n",
        "            })\n",
        "\n",
        "    # Retorna os dados como DataFrame\n",
        "    return pd.DataFrame(dados_tabela_firmas)\n",
        "\n",
        "# Exibir os resultados dos setores\n",
        "def exibir_resultados_firmas(df_resultados_firmas):\n",
        "    display(df_resultados_firmas)  # Exibir df\n",
        "\n",
        "    # Exportar para Excel\n",
        "    nome_arquivo = '/content/drive/My Drive/resultados_exportados_FIRMAS_Linear.xlsx' # Altere o caminho se necessário\n",
        "    df_resultados_firmas.to_excel(nome_arquivo, index=False)\n",
        "    print(f\"Resultados das firmas exportados\")\n",
        "\n",
        "# Formatar e exibir os resultados das firmas\n",
        "df_resultados_firmas = formatar_resultados_firmas(resultados_calculados)\n",
        "exibir_resultados_firmas(df_resultados_firmas)"
      ]
    },
    {
      "cell_type": "code",
      "execution_count": null,
      "metadata": {
        "collapsed": true,
        "id": "QKuNPMTAzSIH"
      },
      "outputs": [],
      "source": [
        "def verificar_estrutura_dicionario(dicionario):\n",
        "    for setor, valores in dicionario.items():\n",
        "        if not isinstance(valores, dict):\n",
        "            print(f\"Erro: Esperado um dicionário para o setor {setor}, mas foi encontrado {type(valores)}\")\n",
        "        else:\n",
        "            for t, resultado in valores.items():\n",
        "                if not isinstance(resultado, dict):\n",
        "                    print(f\"Erro: Esperado um dicionário para o tempo {t} no setor {setor}, mas foi encontrado {type(resultado)}\")\n",
        "                else:\n",
        "                    print(f\"Setor {setor}, Tempo {t}: Dicionário de resultados está correto.\")\n",
        "\n",
        "# Verificar a estrutura de resultados_calculados\n",
        "verificar_estrutura_dicionario(resultados_calculados)"
      ]
    },
    {
      "cell_type": "code",
      "execution_count": null,
      "metadata": {
        "id": "AZcJhGd0vxTZ"
      },
      "outputs": [],
      "source": [
        "# SALVAR EM UM ÚNICO PDF\n",
        "\n",
        "def plot_graficos_emissoes_permissoes_unico(resultados):\n",
        "    # Determinar o número de setores para ajustar o layout dos subplots\n",
        "    num_setores = len(resultados)\n",
        "\n",
        "    # Criar uma figura grande o suficiente para comportar os gráficos\n",
        "    fig, axes = plt.subplots(num_setores, 2, figsize=(12, 5 * num_setores))  # 2 colunas (para emissões e permissões)\n",
        "\n",
        "    # Checar se 'axes' é uma matriz ou uma única instância, caso haja apenas um setor\n",
        "    if num_setores == 1:\n",
        "        axes = [axes]\n",
        "\n",
        "    # Iterar por cada setor\n",
        "    for i, (setor, valores) in enumerate(resultados.items()):\n",
        "        # Verificar se 'valores' é um dicionário\n",
        "        if not isinstance(valores, dict):\n",
        "            print(f\"Erro: Esperado um dicionário para o setor {setor}, mas foi encontrado {type(valores)}\")\n",
        "            continue\n",
        "\n",
        "        # Listas para armazenar dados para o gráfico\n",
        "        tempos = []\n",
        "        emissoes = []\n",
        "        permissoes = []\n",
        "\n",
        "        # Preencher listas com dados de emissões e permissões para cada tempo\n",
        "        for t, resultado in valores.items():\n",
        "            tempos.append(t)\n",
        "            emissoes.append(resultado['e_i'])\n",
        "            permissoes.append(resultado['l_i'])\n",
        "\n",
        "        # Gráfico de emissões (e_i)\n",
        "        axes[i][0].plot(tempos, emissoes, marker='o', linestyle='-', color='blue', label='Emissões (e_i)')\n",
        "        axes[i][0].set_title(f'Emissões ao longo do tempo - Setor: {setor}')\n",
        "        axes[i][0].set_xlabel('Tempo')\n",
        "        axes[i][0].set_ylabel('Emissões (e_i)')\n",
        "        axes[i][0].grid(True)\n",
        "        axes[i][0].legend()\n",
        "\n",
        "        # Gráfico de permissões de emissão (l_i)\n",
        "        axes[i][1].plot(tempos, permissoes, marker='o', linestyle='-', color='green', label='Permissões (l_i)')\n",
        "        axes[i][1].set_title(f'Permissões de emissão ao longo do tempo - Setor: {setor}')\n",
        "        axes[i][1].set_xlabel('Tempo')\n",
        "        axes[i][1].set_ylabel('Permissões (l_i)')\n",
        "        axes[i][1].grid(True)\n",
        "        axes[i][1].legend()\n",
        "\n",
        "    # Ajustar layout dos gráficos\n",
        "    plt.tight_layout()\n",
        "\n",
        "    # Salvar todos os gráficos em um único arquivo PDF\n",
        "    with PdfPages('/content/drive/My Drive/graficos_FIRMAS_emissoes_permissoes_Linear.pdf') as pdf:\n",
        "        pdf.savefig(fig)\n",
        "\n",
        "    # Exibir o gráfico\n",
        "    plt.show()\n",
        "\n",
        "# Chamar a função para plotar e salvar todos os gráficos em um único arquivo PDF\n",
        "# Certifique-se de que 'resultados' é um dicionário no formato correto\n",
        "plot_graficos_emissoes_permissoes_unico(resultados_calculados)\n"
      ]
    },
    {
      "cell_type": "code",
      "execution_count": null,
      "metadata": {
        "id": "WsKeWCLCT16n"
      },
      "outputs": [],
      "source": [
        "def plot_graficos_emissoes_permissoes(df_resultados_firmas):\n",
        "    # Definir o caminho do arquivo PDF\n",
        "    pdf_filename = \"/mnt/data/graficos_emissoes_permissoes.pdf\"\n",
        "\n",
        "    # Criar um arquivo PDF para armazenar os gráficos\n",
        "    with PdfPages(pdf_filename) as pdf:\n",
        "        # Obter lista de setores únicos\n",
        "        setores = df_resultados_firmas['Setor'].unique()\n",
        "\n",
        "        # Iterar por cada setor\n",
        "        for setor in setores:\n",
        "            # Filtrar os dados para o setor atual\n",
        "            df_setor = df_resultados_firmas[df_resultados_firmas['Setor'] == setor]\n",
        "\n",
        "            # Criar gráfico\n",
        "            plt.figure(figsize=(8, 5))\n",
        "            plt.plot(df_setor['Tempo'], df_setor['Emissões (e_i)'], marker='o', linestyle='-', color='blue', label='Emissões (e_i)')\n",
        "            plt.plot(df_setor['Tempo'], df_setor['Permissões de emissão (l_i)'], marker='s', linestyle='--', color='green', label='Permissões (l_i)')\n",
        "            plt.title(f'Emissões e Permissões ao longo do tempo - Setor: {setor}')\n",
        "            plt.xlabel('Tempo')\n",
        "            plt.ylabel('Valores')\n",
        "            plt.grid(True)\n",
        "            plt.legend()\n",
        "\n",
        "\n",
        "\n",
        "    print(f\"Arquivo PDF salvo em: {pdf_filename}\")\n",
        "    return pdf_filename\n",
        "\n",
        "# Gerar os gráficos e salvar em um PDF\n",
        "pdf_filepath = plot_graficos_emissoes_permissoes(df_resultados_firmas)\n",
        "\n",
        "# Exibir o caminho do arquivo gerado\n",
        "print(f\"Gráficos salvos em: {pdf_filepath}\")\n"
      ]
    },
    {
      "cell_type": "code",
      "execution_count": null,
      "metadata": {
        "id": "Hf1rdghB1xgM"
      },
      "outputs": [],
      "source": [
        "# SALVAR EM UM ÚNICO PDF\n",
        "\n",
        "def plot_graficos_estoque_derivada_unico(resultados):\n",
        "    # Determinar o número de setores para ajustar o layout dos subplots\n",
        "    num_setores = len(resultados)\n",
        "\n",
        "    # Criar uma figura grande o suficiente para comportar os gráficos\n",
        "    fig, axes = plt.subplots(num_setores, 2, figsize=(12, 5 * num_setores))  # 2 colunas (para Estoque e Derivada)\n",
        "\n",
        "    # Checar se 'axes' é uma matriz ou uma única instância, caso haja apenas um setor\n",
        "    if num_setores == 1:\n",
        "        axes = [axes]\n",
        "\n",
        "    # Iterar por cada setor\n",
        "    for i, (setor, valores) in enumerate(resultados.items()):\n",
        "        # Listas para armazenar dados para o gráfico\n",
        "        tempos = []\n",
        "        estoque = []\n",
        "        derivada_estoque = []\n",
        "\n",
        "        # Preencher listas com dados de estoque e derivada do estoque para cada tempo\n",
        "        for t, resultado in valores.items():\n",
        "            tempos.append(t)\n",
        "            estoque.append(resultado['B_i'])\n",
        "            derivada_estoque.append(resultado['dB_idt'])\n",
        "\n",
        "        # Gráfico de Estoque (B_i)\n",
        "        axes[i][0].plot(tempos, estoque, marker='o', linestyle='-', color='blue', label='Estoque (B_i)')\n",
        "        axes[i][0].set_title(f'Estoque ao longo do tempo - Setor: {setor}')\n",
        "        axes[i][0].set_xlabel('Tempo')\n",
        "        axes[i][0].set_ylabel('Estoque (B_i)')\n",
        "        axes[i][0].grid(True)\n",
        "        axes[i][0].legend()\n",
        "\n",
        "        # Gráfico de Derivada do Estoque (dB_idt)\n",
        "        axes[i][1].plot(tempos, derivada_estoque, marker='o', linestyle='-', color='green', label='Derivada do Estoque (dB_idt)')\n",
        "        axes[i][1].set_title(f'Derivada do Estoque ao longo do tempo - Setor: {setor}')\n",
        "        axes[i][1].set_xlabel('Tempo')\n",
        "        axes[i][1].set_ylabel('Derivada do Estoque (dB_idt)')\n",
        "        axes[i][1].grid(True)\n",
        "        axes[i][1].legend()\n",
        "\n",
        "    # Ajustar layout dos gráficos\n",
        "    plt.tight_layout()\n",
        "\n",
        "    # Salvar todos os gráficos em um único arquivo PDF\n",
        "    with PdfPages('/content/drive/My Drive/graficos_FIRMAS_estoque_Linear.pdf') as pdf:\n",
        "        pdf.savefig(fig)\n",
        "\n",
        "    # Exibir o gráfico\n",
        "    plt.show()\n",
        "\n",
        "# Chamar a função para plotar e salvar todos os gráficos em um único arquivo PDF\n",
        "plot_graficos_estoque_derivada_unico(resultados_calculados)\n"
      ]
    },
    {
      "cell_type": "markdown",
      "metadata": {
        "id": "AgeyOsw5m5xi"
      },
      "source": [
        "# Resultados Regulador"
      ]
    },
    {
      "cell_type": "code",
      "execution_count": null,
      "metadata": {
        "id": "p4GHpLiwnAK6"
      },
      "outputs": [],
      "source": [
        "# Formatar os resultados do regulador em um df\n",
        "\n",
        "def formatar_resultados_regulador(resultados_regulador, model):\n",
        "\n",
        "    # Lista para armazenar os dados\n",
        "    dados_tabela_regulador = []\n",
        "\n",
        "    # Iterar pelos tempos para organizar os resultados do regulador\n",
        "    for t, resultado in resultados_regulador.items():\n",
        "        dados_tabela_regulador.append({\n",
        "            'Tempo': t,\n",
        "            'Emissões agregadas (E[t])': resultado['E'],\n",
        "            'Estoque total (B_total_var[t])': resultado['B_total_var'],\n",
        "            'Derivada do estoque total (dB_total_dt[t])': resultado['dB_total_dt'],\n",
        "            'Objetivo do Regulador': resultado['objetivo_regulador']\n",
        "        })\n",
        "\n",
        "    # Retorna os dados como df\n",
        "    return pd.DataFrame(dados_tabela_regulador)\n",
        "\n",
        "# Exibir os resultados do regulador\n",
        "def exibir_resultados_regulador(df_resultados_regulador):\n",
        "    display(df_resultados_regulador)  # Exibir df\n",
        "\n",
        "    # Exportar para Excel\n",
        "    nome_arquivo = '/content/drive/My Drive/resultados_exportados_REGULADOR_Linear.xlsx'  # Altere o caminho se necessário\n",
        "    df_resultados_regulador.to_excel(nome_arquivo, index=False)\n",
        "    print(f\"Resultados do regulador exportados\")\n",
        "\n",
        "# Formatar e exibir os resultados do regulador\n",
        "df_resultados_regulador = formatar_resultados_regulador(resultados_regulador, model)\n",
        "exibir_resultados_regulador(df_resultados_regulador)"
      ]
    },
    {
      "cell_type": "markdown",
      "metadata": {
        "id": "sc6ruzJgPcH6"
      },
      "source": [
        "# Resultado Consolidado"
      ]
    },
    {
      "cell_type": "code",
      "execution_count": null,
      "metadata": {
        "id": "6XmNSc_LPc60"
      },
      "outputs": [],
      "source": [
        "# Função para criar uma tabela simplificada com Setor, Função Objetivo Individual e Função Objetivo do Regulador\n",
        "def criar_tabela_simplificada_com_regulador(resultados_calculados, resultados_regulador):\n",
        "    # Lista para armazenar os dados\n",
        "    tabela_simplificada = []\n",
        "\n",
        "    # Iterar pelos setores\n",
        "    for setor, valores in resultados_calculados.items():\n",
        "        # Considerar apenas o último tempo, pois a função objetivo é acumulada\n",
        "        ultima_etapa = list(valores.keys())[-1]\n",
        "        tabela_simplificada.append({\n",
        "            'Setor': setor,\n",
        "            'Penalidade = 1100 t>8': valores[ultima_etapa]['objective_individual']\n",
        "        })\n",
        "\n",
        "    # Adicionar a função objetivo do regulador (último período)\n",
        "    ultimo_periodo = list(resultados_regulador.keys())[-1]\n",
        "    tabela_simplificada.append({\n",
        "        'Setor': 'Regulador',\n",
        "        'Penalidade = 1100 t>8': resultados_regulador[ultimo_periodo]['objetivo_regulador']  # Ajustado para t>6\n",
        "    })\n",
        "\n",
        "    # Converter a lista em DataFrame\n",
        "    df_tabela = pd.DataFrame(tabela_simplificada)\n",
        "\n",
        "    # Ajustar o índice para começar em 1\n",
        "    df_tabela.index = range(1, len(df_tabela) + 1)\n",
        "\n",
        "    # Criar um cabeçalho multi-nível corrigido\n",
        "    df_tabela.columns = pd.MultiIndex.from_tuples(\n",
        "        [('Setor', ''), ('Função Objetivo', 'Penalidade = 1100 t>8')]  # Consistência no cabeçalho\n",
        "    )\n",
        "\n",
        "    return df_tabela\n",
        "\n",
        "# Gerar a nova tabela simplificada com o regulador\n",
        "df_tabela_simplificada_com_regulador = criar_tabela_simplificada_com_regulador(resultados_calculados, resultados_regulador)\n",
        "\n",
        "# Exibir ou salvar a tabela simplificada\n",
        "if not df_tabela_simplificada_com_regulador.empty:\n",
        "    display(df_tabela_simplificada_com_regulador)\n",
        "    df_tabela_simplificada_com_regulador.to_excel('/content/drive/My Drive/Penal_Linear_1100_t_8_tabela_consolidado.xlsx', index=True)\n",
        "    print(\"Tabela simplificada com regulador exportada para Excel.\")\n",
        "else:\n",
        "    print(\"Erro: O DataFrame da tabela simplificada está vazio.\")"
      ]
    },
    {
      "cell_type": "code",
      "execution_count": null,
      "metadata": {
        "id": "dIT61N3IhTci"
      },
      "outputs": [],
      "source": [
        "# Renomear colunas para acesso mais fácil\n",
        "df_resultados_regulador = df_resultados_regulador.rename(columns={\n",
        "    'Tempo': 'tempo',\n",
        "    'Emiss\\u00f5es agregadas (E[t])': 'emissoes',\n",
        "    'Estoque total (B_total_var[t])': 'estoque_total',\n",
        "    'Derivada do estoque total (dB_total_dt[t])': 'derivada_estoque',\n",
        "    'Objetivo do Regulador': 'objetivo_regulador'\n",
        "})\n",
        "\n",
        "# Calcular a soma dos valores iniciais dos setores para E[t=0]\n",
        "valores_iniciais_setores = {\n",
        "    'Celulose': 5901419 / 1000,\n",
        "    'Cimento': 34224339 / 1000,\n",
        "    'VidCerm': 4561417 / 1000,\n",
        "    'FerroGussa': 51117070 / 1000,\n",
        "    'ProdutosMet': 11361545 / 1000,\n",
        "    'Saneamento': 85744711 / 1000,\n",
        "    'PetroGas': 25821432 / 1000,\n",
        "    'UTC': 7541320 / 1000,\n",
        "    'UTG': 12172604 / 1000,\n",
        "    'UTOD': 2425250 / 1000,\n",
        "    'UTOC': 30198 / 1000,\n",
        "    'TranspCarga': 114937896 / 1000,\n",
        "    'TransPass': 92843424 / 1000,\n",
        "    'TransAere': 9549379 / 1000,\n",
        "}\n",
        "\n",
        "# Soma dos valores iniciais\n",
        "E_t0 = sum(valores_iniciais_setores.values())\n",
        "print(f\"E[t=0]: {E_t0}\")\n",
        "\n",
        "# Substituir E[t=0] no DataFrame para garantir consistência\n",
        "df_resultados_regulador.loc[df_resultados_regulador['tempo'] == 0, 'emissoes'] = E_t0\n",
        "\n",
        "# Verificar a existência de colunas adicionais antes de plotar\n",
        "if 'custo_total' in df_resultados_regulador.columns:\n",
        "    plt.plot(df_resultados_regulador['tempo'], df_resultados_regulador['custo_total'], label='Custo Total', marker='o')\n",
        "\n",
        "if 'preco_mercado' in df_resultados_regulador.columns:\n",
        "    plt.plot(df_resultados_regulador['tempo'], df_resultados_regulador['preco_mercado'], label='Preço de Mercado', marker='^')\n",
        "\n",
        "# Plotar variáveis principais\n",
        "plt.plot(df_resultados_regulador['tempo'], df_resultados_regulador['emissoes'], label='Emissões Agregadas (E[t])', marker='s')\n",
        "plt.plot(df_resultados_regulador['tempo'], df_resultados_regulador['estoque_total'], label='Estoque Total (B_total)', marker='x')\n",
        "plt.plot(df_resultados_regulador['tempo'], df_resultados_regulador['derivada_estoque'], label='Derivada do Estoque (dB_total/dt)', marker='^')\n",
        "\n",
        "# Personalizar gráfico\n",
        "plt.xlabel('Tempo')\n",
        "plt.ylabel('Valores')\n",
        "plt.title('Resultados do Regulador ao longo do Tempo')\n",
        "#plt.legend()\n",
        "plt.grid(True)\n",
        "\n",
        "# Salvar o gráfico como PDF\n",
        "plt.savefig('/content/drive/My Drive/graficos_REGULADOR_compilado_Linear.pdf', format='pdf')\n",
        "\n",
        "# Mostrar o gráfico\n",
        "plt.show()\n",
        "\n"
      ]
    },
    {
      "cell_type": "code",
      "execution_count": null,
      "metadata": {
        "id": "yc6UlsEyo1Fn"
      },
      "outputs": [],
      "source": [
        "## SALVAR EM ÚNICO PDF\n",
        "\n",
        "# Ajuste do valor de E[t=0]\n",
        "E_t0 = sum(valores_iniciais_setores.values())\n",
        "print(f\"E[t=0]: {E_t0}\")\n",
        "\n",
        "def plot_graficos_variaveis_globais(model, nome_arquivo='/content/drive/My Drive/graficos_REGULADOR_individuais_Linear.pdf'):\n",
        "    # Listas para armazenar dados para o gráfico\n",
        "    tempos = []\n",
        "    emissoes_agregadas = []\n",
        "    estoque_total = []\n",
        "    derivada_estoque_total = []\n",
        "\n",
        "    # Preencher listas com dados das variáveis globais para cada tempo\n",
        "    for t in model.time:\n",
        "        if model.E[t].value is not None:  # Verificação para evitar valores None\n",
        "            tempos.append(t)\n",
        "            emissoes_agregadas.append(model.E[t].value)\n",
        "            estoque_total.append(model.B_total_var[t].value)\n",
        "            derivada_estoque_total.append(model.dB_total_dt[t].value)\n",
        "\n",
        "    # Ajustar o valor de E[t=0] no gráfico\n",
        "    emissoes_agregadas[0] = E_t0\n",
        "\n",
        "    # Verificação se há múltiplos pontos no tempo\n",
        "    if len(tempos) <= 1:\n",
        "        print(\"Erro: O número de pontos no tempo é insuficiente para plotar o gráfico.\")\n",
        "        return\n",
        "\n",
        "    # Verificação e impressão dos dados coletados\n",
        "    print(f\"Tempos: {tempos}\")\n",
        "    print(f\"Emissões agregadas: {emissoes_agregadas}\")\n",
        "\n",
        "    # Criar uma figura e subplots para os gráficos das variáveis globais\n",
        "    fig, ax = plt.subplots(3, 1, figsize=(10, 15))  # 3 linhas, 1 coluna para os gráficos\n",
        "\n",
        "    # Gráfico de Emissões agregadas (E[t])\n",
        "    ax[0].plot(tempos, emissoes_agregadas, marker='o', linestyle='-', color='blue', label='Emissões agregadas (E[t])')\n",
        "    ax[0].set_title('Emissões agregadas ao longo do tempo (E[t])')\n",
        "    ax[0].set_xlabel('Tempo')\n",
        "    ax[0].set_ylabel('Emissões agregadas (E[t])')\n",
        "    ax[0].grid(True)\n",
        "    ax[0].legend()\n",
        "\n",
        "    # Ajuste da escala do eixo Y para melhorar a visualização\n",
        "    ax[0].set_ylim(min(emissoes_agregadas) * 0.9, max(emissoes_agregadas) * 1.1)\n",
        "    ax[0].set_xticks(tempos)\n",
        "\n",
        "    # Gráfico de Estoque total (B_total_var[t])\n",
        "    ax[1].plot(tempos, estoque_total, marker='o', linestyle='-', color='green', label='Estoque total (B_total_var[t])')\n",
        "    ax[1].set_title('Estoque total ao longo do tempo (B_total_var[t])')\n",
        "    ax[1].set_xlabel('Tempo')\n",
        "    ax[1].set_ylabel('Estoque total (B_total_var[t])')\n",
        "    ax[1].grid(True)\n",
        "    ax[1].legend()\n",
        "\n",
        "    # Ajuste da escala do eixo Y para o gráfico de estoque total\n",
        "    ax[1].set_ylim(min(estoque_total) * 0.9, max(estoque_total) * 1.1)\n",
        "    ax[1].set_xticks(tempos)\n",
        "\n",
        "    # Gráfico da Derivada do Estoque total (dB_total_dt[t])\n",
        "    ax[2].plot(tempos, derivada_estoque_total, marker='o', linestyle='-', color='red', label='Derivada do estoque total (dB_total_dt[t])')\n",
        "    ax[2].set_title('Derivada do estoque total ao longo do tempo (dB_total_dt[t])')\n",
        "    ax[2].set_xlabel('Tempo')\n",
        "    ax[2].set_ylabel('Derivada do estoque total (dB_total_dt[t])')\n",
        "    ax[2].grid(True)\n",
        "    ax[2].legend()\n",
        "\n",
        "    # Ajustar layout, salvar o gráfico em PDF\n",
        "    plt.tight_layout()\n",
        "\n",
        "    # Salvar os gráficos no arquivo PDF\n",
        "    with PdfPages(nome_arquivo) as pdf:\n",
        "        pdf.savefig(fig)  # Salva a figura no PDF\n",
        "\n",
        "    print(f'Gráficos salvos como {nome_arquivo}')\n",
        "\n",
        "    # Exibir os gráficos\n",
        "    plt.show()\n",
        "\n",
        "# Chamar a função para plotar os gráficos e salvá-los em PDF\n",
        "plot_graficos_variaveis_globais(model)\n"
      ]
    },
    {
      "cell_type": "markdown",
      "metadata": {
        "id": "mtDRR7KZ1JAy"
      },
      "source": [
        "# Resultados"
      ]
    },
    {
      "cell_type": "code",
      "execution_count": null,
      "metadata": {
        "id": "Ud1GIEYrC7eZ"
      },
      "outputs": [],
      "source": [
        "# Verificação de compradores e vendedores líquidos de permissões\n",
        "verificacao_permissoes = {}\n",
        "for setor in model.setores:\n",
        "    verificacao_permissoes[setor] = {}\n",
        "    for t in model.time:\n",
        "        # Verificar se as variáveis possuem valores numéricos\n",
        "        if model.l_i[setor, t].value is None or pyo.value(model.l_i0_expr[setor, t]) is None:\n",
        "            print(f\"Erro: Variáveis l_i ou l_i0 não possuem valores definidos para setor {setor}, tempo {t}.\")\n",
        "            continue  # Pula para o próximo setor/tempo\n",
        "\n",
        "        # Calcular y_i = l_i - l_i0\n",
        "        l_i = model.l_i[setor, t].value\n",
        "        l_i0 = pyo.value(model.l_i0_expr[setor, t])\n",
        "        y_i = l_i - l_i0\n",
        "\n",
        "        # Determinar se o setor é comprador ou vendedor\n",
        "        if y_i > 0:\n",
        "            status = 'Comprador'\n",
        "        elif y_i < 0:\n",
        "            status = 'Vendedor'\n",
        "        else:\n",
        "            status = 'Neutro'\n",
        "\n",
        "        # Armazenar resultado\n",
        "        verificacao_permissoes[setor][t] = {\n",
        "            'l_i': l_i,\n",
        "            'l_i0': l_i0,\n",
        "            'y_i': y_i,\n",
        "            'status': status\n",
        "        }\n",
        "\n",
        "# Exibir os resultados de compradores e vendedores\n",
        "for setor, resultados_setor in verificacao_permissoes.items():\n",
        "    for t, info in resultados_setor.items():\n",
        "        print(f\"Setor: {setor}, Tempo: {t}, l_i: {info['l_i']}, l_i0: {info['l_i0']}, y_i: {info['y_i']}, Status: {info['status']}\")\n"
      ]
    },
    {
      "cell_type": "code",
      "execution_count": null,
      "metadata": {
        "id": "UTd9cCiU9qLT"
      },
      "outputs": [],
      "source": [
        "# Criar gráficos para cada setor\n",
        "for setor, resultados_setor in verificacao_permissoes.items():\n",
        "    tempos = list(resultados_setor.keys())\n",
        "    y_i_values = [info['y_i'] for info in resultados_setor.values()]\n",
        "\n",
        "    plt.figure(figsize=(8, 5))\n",
        "    plt.plot(tempos, y_i_values, marker='o', linestyle='-', label=f'Setor {setor}')\n",
        "    plt.axhline(0, color='gray', linestyle='--', linewidth=1)  # Linha de referência em y=0\n",
        "\n",
        "    plt.xlabel(\"Tempo\")\n",
        "    plt.ylabel(\"y_i (l_i - l_i0)\")\n",
        "    plt.title(f\"Evolução de y_i ao longo do tempo - Setor {setor}\")\n",
        "    plt.legend()\n",
        "    plt.grid()\n",
        "    plt.show()\n"
      ]
    },
    {
      "cell_type": "code",
      "execution_count": null,
      "metadata": {
        "id": "Onm5hAG627Yg"
      },
      "outputs": [],
      "source": [
        "# Criar um dicionário com os dados de cap de cada setor\n",
        "caps_setores = {\n",
        "    \"TranspCarga\": [114937.896, 110758.336, 106578.776, 102399.216, 98219.657, 94040.097, 89860.537, 85680.977, 81501.416, 77321.857, 73142.297, 68962.738],\n",
        "    \"TransPass\": [92843.424, 89467.299, 86091.175, 82715.050, 79338.926, 75962.801, 72586.677, 69210.552, 65834.427, 62458.303, 59082.179, 55706.054],\n",
        "    \"Saneamento\": [85744.711, 82626.722, 79508.732, 76390.743, 73272.753, 70154.764, 67036.774, 63918.785, 60800.795, 57682.806, 54564.816, 51446.827],\n",
        "    \"FerroGussa\": [51117.070, 49258.267, 47399.465, 45540.662, 43681.860, 41823.057, 39964.255, 38105.452, 36246.649, 34387.847, 32529.045, 30670.242],\n",
        "    \"Cimento\": [34224.339, 32979.818, 31735.296, 30490.775, 29246.253, 28001.732, 26757.210, 25512.689, 24268.167, 23023.646, 21779.125, 20534.603],\n",
        "    \"PetroGas\": [25821.432, 24882.471, 23943.510, 23004.549, 22065.587, 21126.626, 20187.665, 19248.704, 18309.743, 17370.782, 16431.820, 15492.859],\n",
        "    \"UTG\": [12172.604, 11729.964, 11287.324, 10844.684, 10402.043, 9959.403, 9516.763, 9074.123, 8631.483, 8188.843, 7746.203, 7303.562],\n",
        "    \"ProdutosMet\": [11361.545, 10948.398, 10535.251, 10122.104, 9708.957, 9295.810, 8882.662, 8469.515, 8056.368, 7643.221, 7230.074, 6816.927],\n",
        "    \"TransAere\": [9549.379, 9202.129, 8854.879, 8507.629, 8160.378, 7813.128, 7465.878, 7118.628, 6771.378, 6424.128, 6076.878, 5729.627],\n",
        "    \"UTC\": [7541.320, 7267.090, 6992.860, 6718.631, 6444.401, 6170.171, 5895.941, 5621.711, 5347.481, 5073.252, 4799.022, 4524.792],\n",
        "    \"Celulose\": [5901.419, 5686.822, 5472.225, 5257.628, 5043.031, 4828.434, 4613.837, 4399.240, 4184.643, 3970.046, 3755.448, 3540.851],\n",
        "    \"VidCerm\": [4561.417, 4395.547, 4229.678, 4063.808, 3897.938, 3732.068, 3566.199, 3400.329, 3234.459, 3068.590, 2902.720, 2736.850],\n",
        "    \"UTOD\": [2425.250, 2337.059, 2248.868, 2160.677, 2072.486, 1984.295, 1896.105, 1807.914, 1719.723, 1631.532, 1543.341, 1455.150],\n",
        "    \"UTOC\": [30.198, 29.100, 28.002, 26.904, 25.806, 24.707, 23.609, 22.511, 21.413, 20.315, 19.217, 18.119]\n",
        "}\n",
        "\n",
        "\n",
        "# Converter para DataFrame para fácil visualização\n",
        "df_caps = pd.DataFrame(caps_setores)\n"
      ]
    },
    {
      "cell_type": "code",
      "execution_count": null,
      "metadata": {
        "id": "mZFXvgEf4FL_"
      },
      "outputs": [],
      "source": [
        "# Criar gráficos para cada setor\n",
        "for setor, resultados_setor in verificacao_permissoes.items():\n",
        "    tempos = list(resultados_setor.keys())\n",
        "    y_i_values = [info['y_i'] for info in resultados_setor.values()]\n",
        "    e_i_values = df_resultados_firmas[df_resultados_firmas['Setor'] == setor].set_index('Tempo')['Emissões (e_i)']\n",
        "\n",
        "    # Obter os valores de cap do setor APENAS nos períodos correspondentes\n",
        "    if setor in df_caps.columns:\n",
        "        cap_tempos = list(range(len(df_caps)))  # Criando os períodos da base de dados (0 a 11)\n",
        "        cap_values = df_caps[setor].values\n",
        "    else:\n",
        "        cap_tempos = []\n",
        "        cap_values = []\n",
        "\n",
        "    plt.figure(figsize=(8, 5))\n",
        "\n",
        "    # Plotar y_i com cores diferentes para positivo e negativo\n",
        "    for i in range(len(tempos) - 1):\n",
        "        cor = 'green' if y_i_values[i] >= 0 else 'red'\n",
        "        plt.plot(tempos[i:i+2], y_i_values[i:i+2], marker='o', linestyle='-', color=cor)\n",
        "\n",
        "    # Plotar e_i como linha azul\n",
        "    plt.plot(e_i_values.index, e_i_values.values, marker='s', linestyle='--', color='blue', label='Emissões (e_i)')\n",
        "\n",
        "    # Plotar cap como linha roxa pontilhada APENAS nos períodos correspondentes\n",
        "    if cap_tempos:\n",
        "        plt.plot(cap_tempos, cap_values, marker='x', linestyle=':', color='purple', label='Cap (Permissões Iniciais)')\n",
        "\n",
        "    plt.axhline(0, color='gray', linestyle='--', linewidth=1)  # Linha de referência em y=0\n",
        "\n",
        "    plt.xlabel(\"Tempo\")\n",
        "    plt.ylabel(\"Valores\")\n",
        "    plt.title(f\"Evolução de y_i, e_i e cap ao longo do tempo - Setor {setor}\")\n",
        "\n",
        "    # Adicionar legenda personalizada\n",
        "    from matplotlib.lines import Line2D\n",
        "    legend_elements = [\n",
        "        Line2D([0], [0], color='green', marker='o', linestyle='-', label='y_i > 0 (Comprador)'),\n",
        "        Line2D([0], [0], color='red', marker='o', linestyle='-', label='y_i < 0 (Vendedor)'),\n",
        "        Line2D([0], [0], color='blue', marker='s', linestyle='--', label='Emissões (e_i)'),\n",
        "        Line2D([0], [0], color='purple', marker='x', linestyle=':', label='Cap (Permissões Iniciais)')\n",
        "    ]\n",
        "    plt.legend(handles=legend_elements)\n",
        "\n",
        "    plt.grid()\n",
        "    plt.show()\n"
      ]
    },
    {
      "cell_type": "code",
      "execution_count": null,
      "metadata": {
        "id": "98vMAcN8AbAN"
      },
      "outputs": [],
      "source": [
        "# Criar gráficos para cada setor\n",
        "for setor, resultados_setor in verificacao_permissoes.items():\n",
        "    tempos = list(resultados_setor.keys())\n",
        "    y_i_values = np.array([info['y_i'] for info in resultados_setor.values()])\n",
        "\n",
        "    plt.figure(figsize=(8, 5))\n",
        "\n",
        "    # Identificar transições de sinal para mudar a cor da linha\n",
        "    for i in range(len(tempos) - 1):\n",
        "        cor = 'green' if y_i_values[i] >= 0 else 'red'\n",
        "        plt.plot(tempos[i:i+2], y_i_values[i:i+2], marker='o', linestyle='-', color=cor)\n",
        "\n",
        "    plt.axhline(0, color='gray', linestyle='--', linewidth=1)  # Linha de referência em y=0\n",
        "\n",
        "    plt.xlabel(\"Tempo\")\n",
        "    plt.ylabel(\"y_i (l_i - l_i0)\")\n",
        "    plt.title(f\"Evolução de y_i ao longo do tempo - Setor {setor}\")\n",
        "    plt.grid()\n",
        "    plt.show()\n"
      ]
    },
    {
      "cell_type": "code",
      "execution_count": null,
      "metadata": {
        "id": "vh6ltD3qS4gi"
      },
      "outputs": [],
      "source": [
        "def plot_estoque_emissoes_por_setor(resultados):\n",
        "    # Criar um arquivo PDF para salvar os gráficos\n",
        "    pdf_filename = \"/content/drive/My Drive/graficos_estoque_emissoes_por_setor.pdf\"\n",
        "\n",
        "    with PdfPages(pdf_filename) as pdf:\n",
        "        # Iterar sobre os setores\n",
        "        for setor, valores in resultados.items():\n",
        "            tempos = []\n",
        "            estoque = []\n",
        "            emissoes = []\n",
        "\n",
        "            # Coletar os dados\n",
        "            for t, resultado in valores.items():\n",
        "                tempos.append(t)\n",
        "                estoque.append(resultado['B_i'])  # Estoque (B_i)\n",
        "                emissoes.append(resultado['e_i'])  # Emissões (e_i)\n",
        "\n",
        "            # Criar a figura\n",
        "            plt.figure(figsize=(8, 5))\n",
        "\n",
        "            # Plotar Estoque (B_i) em azul\n",
        "            plt.plot(tempos, estoque, marker='o', linestyle='-', color='blue', label='Estoque (B_i)')\n",
        "\n",
        "            # Plotar Emissões (e_i) em vermelho\n",
        "            plt.plot(tempos, emissoes, marker='s', linestyle='--', color='red', label='Emissões (e_i)')\n",
        "\n",
        "            # Configurações do gráfico\n",
        "            plt.title(f'Estoque e Emissões ao longo do tempo - Setor: {setor}')\n",
        "            plt.xlabel('Tempo')\n",
        "            plt.ylabel('Valores')\n",
        "            plt.legend()\n",
        "            plt.grid(True)\n",
        "\n",
        "            # Salvar no PDF\n",
        "            pdf.savefig()\n",
        "            plt.show()  # Mostrar o gráfico na tela\n",
        "            plt.close()\n",
        "\n",
        "    print(f\"📄 Gráficos salvos em {pdf_filename}\")\n",
        "\n",
        "# Chamar a função para gerar os gráficos\n",
        "plot_estoque_emissoes_por_setor(resultados_calculados)\n"
      ]
    },
    {
      "cell_type": "markdown",
      "metadata": {
        "id": "LAwBFlAK4gBf"
      },
      "source": [
        "# Gráficos dos Resultados setoriais"
      ]
    },
    {
      "cell_type": "code",
      "execution_count": null,
      "metadata": {
        "id": "8M91EZOr5DQl"
      },
      "outputs": [],
      "source": [
        "# Criar gráficos para cada setor\n",
        "for setor, resultados_setor in verificacao_permissoes.items():\n",
        "    tempos = list(resultados_setor.keys())\n",
        "    e_i_values = df_resultados_firmas[df_resultados_firmas['Setor'] == setor].set_index('Tempo')['Emissões (e_i)']\n",
        "\n",
        "    # Obter os valores de cap do setor APENAS nos períodos correspondentes\n",
        "    if setor in df_caps.columns:\n",
        "        cap_tempos = list(range(len(df_caps)))  # Criando os períodos da base de dados (0 a 11)\n",
        "        cap_values = df_caps[setor].values\n",
        "    else:\n",
        "        cap_tempos = []\n",
        "        cap_values = []\n",
        "\n",
        "    plt.figure(figsize=(8, 5))\n",
        "\n",
        "    # Plotar e_i como linha azul tracejada com marcadores\n",
        "    plt.plot(e_i_values.index, e_i_values.values, marker='s', linestyle='--', color='blue', label='Emissões (e_i)')\n",
        "\n",
        "    # Plotar cap como linha preta sólida sem marcações\n",
        "    if cap_tempos:\n",
        "        plt.plot(cap_tempos, cap_values, linestyle='-', color='black', linewidth=1.5, label='Cap (Permissões Iniciais)')\n",
        "\n",
        "    plt.axhline(0, color='gray', linestyle='--', linewidth=1)  # Linha de referência em y=0\n",
        "\n",
        "    plt.xlabel(\"Tempo\")\n",
        "    plt.ylabel(\"Valores\")\n",
        "    plt.title(f\"Evolução de Emissões (e_i) e Cap ao longo do tempo - Setor {setor}\")\n",
        "\n",
        "    # Adicionar legenda personalizada\n",
        "    from matplotlib.lines import Line2D\n",
        "    legend_elements = [\n",
        "        Line2D([0], [0], color='blue', marker='s', linestyle='--', label='Emissões (e_i)'),\n",
        "        Line2D([0], [0], color='black', linestyle='-', linewidth=1.5, label='Cap (Permissões Iniciais)')\n",
        "    ]\n",
        "    plt.legend(handles=legend_elements)\n",
        "\n",
        "    plt.grid()\n",
        "    plt.show()\n"
      ]
    },
    {
      "cell_type": "code",
      "execution_count": null,
      "metadata": {
        "id": "pW4-hHBMA_7v"
      },
      "outputs": [],
      "source": [
        "from matplotlib.lines import Line2D\n",
        "import math\n",
        "\n",
        "# Definir a cor azul da emissão com base na referência\n",
        "color_blue_hex = \"#1f77b4\"\n",
        "\n",
        "# Criar um mapeamento de anos (t=0 → 2024, t=10 → 2034)\n",
        "anos = {t: 2024 + t for t in range(12)}\n",
        "\n",
        "# Criar um dicionário de mapeamento para setores formatados\n",
        "mapeamento_setores = {\n",
        "    \"TranspCarga\": \"Transporte de Carga\",\n",
        "    \"TransPass\": \"Transporte de Passageiro\",\n",
        "    \"Saneamento\": \"Saneamento\",\n",
        "    \"FerroGussa\": \"Ferro-gusa, Aço e Ferroligas\",\n",
        "    \"Cimento\": \"Cimento\",\n",
        "    \"PetroGas\": \"Refino de Petróleo\",\n",
        "    \"UTG\": \"Termoelétrica a Gás Natural\",\n",
        "    \"ProdutosMet\": \"Produtos Metalúrgicos\",\n",
        "    \"TransAere\": \"Transporte Aéreo\",\n",
        "    \"UTC\": \"Termoelétrica a Carvão\",\n",
        "    \"Celulose\": \"Celulose\",\n",
        "    \"VidCerm\": \"Vidros e Cerâmicos\",\n",
        "    \"UTOD\": \"Termoelétrica a Óleo Diesel\",\n",
        "    \"UTOC\": \"Termoelétrica a Óleo Combustível\"\n",
        "}\n",
        "\n",
        "# Criar o arquivo PDF para salvar os gráficos\n",
        "pdf_filename = \"/content/drive/My Drive/graficos_FIRMAS_Seção_Setores_do_resultado_Linear.pdf\"\n",
        "\n",
        "# Abrir o PDF para salvar os gráficos\n",
        "with PdfPages(pdf_filename) as pdf:\n",
        "    setores = list(verificacao_permissoes.keys())\n",
        "    num_paginas = math.ceil(len(setores) / 3)  # Calcula quantas páginas serão necessárias\n",
        "\n",
        "    for i in range(num_paginas):\n",
        "        fig, axes = plt.subplots(nrows=3, ncols=1, figsize=(8, 12))  # Criar 3 gráficos por página\n",
        "\n",
        "        for j in range(3):  # Iterar sobre os 3 gráficos por página\n",
        "            idx = i * 3 + j  # Índice do setor\n",
        "            if idx >= len(setores):\n",
        "                break  # Se não há mais setores, parar o loop\n",
        "\n",
        "            setor = setores[idx]\n",
        "            titulo_setor = mapeamento_setores.get(setor, setor)  # Obtém nome correto do setor\n",
        "\n",
        "            resultados_setor = verificacao_permissoes[setor]\n",
        "            tempos = list(resultados_setor.keys())\n",
        "            e_i_values = df_resultados_firmas[df_resultados_firmas['Setor'] == setor].set_index('Tempo')['Emissões (e_i)']\n",
        "\n",
        "            # Obter os valores de cap do setor APENAS nos períodos correspondentes\n",
        "            if setor in df_caps.columns:\n",
        "                cap_tempos = list(range(len(df_caps)))  # Criando os períodos da base de dados (0 a 11)\n",
        "                cap_values = df_caps[setor].values\n",
        "            else:\n",
        "                cap_tempos = []\n",
        "                cap_values = []\n",
        "\n",
        "            ax = axes[j]  # Define qual eixo (gráfico) será usado\n",
        "\n",
        "            # Plotar e_i como linha azul contínua sem marcadores\n",
        "            ax.plot(e_i_values.index, e_i_values.values, linestyle='-', color=color_blue_hex, linewidth=2, label='Emissões (e_i)')\n",
        "\n",
        "            # Plotar cap como linha preta sólida sem marcações\n",
        "            if cap_tempos:\n",
        "                ax.plot(cap_tempos, cap_values, linestyle='-', color='black', linewidth=1.5, label='Cap (Permissões Iniciais)')\n",
        "\n",
        "            ax.axhline(0, color='gray', linestyle='--', linewidth=1)  # Linha de referência em y=0\n",
        "\n",
        "            # Alterar os rótulos do eixo X para anos de 2 em 2\n",
        "            anos_filtrados = {t: ano for t, ano in anos.items() if ano % 2 == 0}  # Filtrar apenas anos pares\n",
        "            ax.set_xticks(list(anos_filtrados.keys()))\n",
        "            ax.set_xticklabels(list(anos_filtrados.values()))\n",
        "\n",
        "            ax.set_xlabel(\"Ano\", fontsize=15)\n",
        "            ax.set_ylabel(\"MtCO₂e\", fontsize=15)\n",
        "            ax.tick_params(axis='both', labelsize=15)\n",
        "\n",
        "            ax.set_title(f'{titulo_setor}', fontsize=15)  # Agora o título muda corretamente\n",
        "\n",
        "            # Criar a legenda personalizada\n",
        "            legend_elements = [\n",
        "                Line2D([0], [0], color=color_blue_hex, linestyle='-', linewidth=2, label='Emissões (e_i)'),\n",
        "                Line2D([0], [0], color='black', linestyle='-', linewidth=1.5, label='Cap (Permissões Iniciais)')\n",
        "            ]\n",
        "\n",
        "            ax.legend().remove()  # Remover legenda de dentro do gráfico\n",
        "\n",
        "            ax.grid()\n",
        "\n",
        "        # Criar legenda abaixo dos gráficos\n",
        "        fig.legend(handles=legend_elements, loc='upper center', bbox_to_anchor=(0.5, 0), ncol=2, frameon=False, fontsize=12)\n",
        "\n",
        "        plt.tight_layout()  # Ajustar layout dos gráficos\n",
        "        pdf.savefig(fig)  # Salvar no PDF\n",
        "        plt.show() # Fechar figura para evitar excesso de gráficos na memória\n",
        "\n",
        "print(f\"📄 Gráficos salvos em {pdf_filename}\")\n"
      ]
    },
    {
      "cell_type": "code",
      "execution_count": null,
      "metadata": {
        "id": "lNy07BJT_F6g"
      },
      "outputs": [],
      "source": [
        "# Definir a cor azul da emissão com base na referência\n",
        "color_blue_hex = \"#1f77b4\"\n",
        "\n",
        "# Criar um mapeamento de anos (t=0 → 2024, t=10 → 2034)\n",
        "anos = {t: 2024 + t for t in range(12)}\n",
        "\n",
        "# Criar o arquivo PDF para salvar os gráficos\n",
        "pdf_filename = \"/content/drive/My Drive/graficos_FIRMAS_Seção_Setores_do_resultado_Linear_comprado.pdf\"\n",
        "\n",
        "# Abrir o PDF para salvar os gráficos\n",
        "with PdfPages(pdf_filename) as pdf:\n",
        "    setores = list(verificacao_permissoes.keys())\n",
        "    num_paginas = math.ceil(len(setores) / 3)  # Calcula quantas páginas serão necessárias\n",
        "\n",
        "    for i in range(num_paginas):\n",
        "        fig, axes = plt.subplots(nrows=3, ncols=1, figsize=(8, 12))  # Criar 3 gráficos por página\n",
        "\n",
        "        for j in range(3):  # Iterar sobre os 3 gráficos por página\n",
        "            idx = i * 3 + j  # Índice do setor\n",
        "            if idx >= len(setores):\n",
        "                break  # Se não há mais setores, parar o loop\n",
        "\n",
        "            setor = setores[idx]\n",
        "            resultados_setor = verificacao_permissoes[setor]\n",
        "\n",
        "            tempos = np.array(list(resultados_setor.keys()))\n",
        "            y_i_values = np.array([info['y_i'] for info in resultados_setor.values()])\n",
        "\n",
        "            ax = axes[j]  # Define qual eixo (gráfico) será usado\n",
        "\n",
        "            # Criar um array de cores correspondente ao sinal de y_i\n",
        "            cores = np.where(y_i_values >= 0, 'green', '#FF6347')  # Verde para positivo, vermelho claro (tomato) para negativo\n",
        "\n",
        "            # Plotar a linha contínua com mudanças de cor\n",
        "            for k in range(len(tempos) - 1):\n",
        "                ax.plot(tempos[k:k+2], y_i_values[k:k+2], linestyle='-', color=cores[k], linewidth=2)\n",
        "\n",
        "            ax.axhline(0, color='gray', linestyle='--', linewidth=1)  # Linha de referência em y=0\n",
        "\n",
        "            # Alterar os rótulos do eixo X para anos de 2 em 2\n",
        "            anos_filtrados = {t: ano for t, ano in anos.items() if ano % 2 == 0}  # Filtrar apenas anos pares\n",
        "            ax.set_xticks(list(anos_filtrados.keys()))\n",
        "            ax.set_xticklabels(list(anos_filtrados.values()))\n",
        "\n",
        "            ax.set_xlabel(\"Ano\", fontsize=15)\n",
        "            ax.set_ylabel(\"MtCO₂e\", fontsize=15)\n",
        "            ax.tick_params(axis='both', labelsize=15)\n",
        "\n",
        "            ax.set_title(f'{setor}', fontsize=15)\n",
        "\n",
        "            ax.grid()\n",
        "\n",
        "        # Criar legenda abaixo dos gráficos\n",
        "        fig.legend(\n",
        "            handles=[\n",
        "                Line2D([0], [0], color='green', linestyle='-', linewidth=2, label='Compra'),\n",
        "                Line2D([0], [0], color='#FF6347', linestyle='-', linewidth=2, label='Venda')\n",
        "            ],\n",
        "            loc='upper center', bbox_to_anchor=(0.5, 0), ncol=2, frameon=False, fontsize=12\n",
        "        )\n",
        "\n",
        "        plt.tight_layout()  # Ajustar layout dos gráficos\n",
        "        pdf.savefig(fig)  # Salvar no PDF\n",
        "        plt.show() # Fechar figura para evitar excesso de gráficos na memória\n",
        "\n",
        "print(f\"📄 Gráficos salvos em {pdf_filename}\")\n"
      ]
    },
    {
      "cell_type": "markdown",
      "metadata": {
        "id": "wJ1wj01vQWc2"
      },
      "source": [
        "# Preço"
      ]
    },
    {
      "cell_type": "code",
      "execution_count": null,
      "metadata": {
        "id": "a0rnNz3amPq_"
      },
      "outputs": [],
      "source": [
        "# Função para formatar os resultados das firmas\n",
        "def formatar_resultados_firmas(resultados_calculados):\n",
        "    # Lista para armazenar os dados\n",
        "    dados_tabela_firmas = []\n",
        "\n",
        "    # Iterar pelos setores e tempos\n",
        "    for setor, valores in resultados_calculados.items():\n",
        "        for t, resultado in valores.items():\n",
        "            # Adiciona os resultados das firmas em uma estrutura de tabela\n",
        "            dados_tabela_firmas.append({\n",
        "                'Setor': setor,\n",
        "                'Tempo': t,\n",
        "                'Preço (p)': resultado['p']\n",
        "            })\n",
        "\n",
        "    # Retorna os dados como DataFrame\n",
        "    return pd.DataFrame(dados_tabela_firmas)\n",
        "\n",
        "# Função para exibir e exportar os resultados filtrados\n",
        "def exibir_resultados_firmas(df_resultados_firmas):\n",
        "    # Filtrar apenas setor \"TranspCarga\"\n",
        "    df_filtrado = df_resultados_firmas[df_resultados_firmas['Setor'] == 'TranspCarga'][['Tempo', 'Preço (p)']]\n",
        "\n",
        "    # Exibir DataFrame filtrado\n",
        "    display(df_filtrado)\n",
        "\n",
        "    # Exportar para Excel\n",
        "    nome_arquivo = '/content/drive/My Drive/resultados_filtrados_TranspCarga.xlsx'\n",
        "    df_filtrado.to_excel(nome_arquivo, index=False)\n",
        "    print(f\"Resultados filtrados exportados para {nome_arquivo}\")\n",
        "\n",
        "# Formatar e exibir os resultados das firmas\n",
        "df_resultados_firmas = formatar_resultados_firmas(resultados_calculados)\n",
        "exibir_resultados_firmas(df_resultados_firmas)\n"
      ]
    },
    {
      "cell_type": "code",
      "execution_count": null,
      "metadata": {
        "id": "BrbdfBl_1cBH"
      },
      "outputs": [],
      "source": [
        "# Dados fornecidos\n",
        "dados = {\n",
        "    \"Tempo\": [0.00, 0.25, 0.50, 0.75, 1.00, 1.25, 1.50, 1.75, 2.00, 2.25, 2.50, 2.75, 3.00, 3.25, 3.50, 3.75, 4.00, 4.25,\n",
        "              4.50, 4.75, 5.00, 5.50, 6.00, 6.50, 7.00, 7.50, 8.00, 8.50, 9.00, 9.50, 10.00, 10.50, 11.00],\n",
        "    \"Preço (p)\": [92.899626, 99.999990, 99.999996, 99.999995, 99.999995, 99.999995, 99.999995, 99.999995, 99.999994, 99.999994,\n",
        "                  99.999994, 99.999994, 99.999994, 99.999993, 99.999993, 99.999993, 99.999988, 99.999984, 0.000103, 0.000103,\n",
        "                  99.999995, 100.000000, 99.999998, 99.999997, 99.999994, 99.999993, 99.999872, 79.902886, 0.000107, 0.000107,\n",
        "                  0.000108, 0.000108, 0.000100]\n",
        "}\n",
        "\n",
        "# Criar DataFrame\n",
        "df = pd.DataFrame(dados)\n",
        "\n",
        "# Criar o gráfico\n",
        "plt.figure(figsize=(10, 5))\n",
        "plt.plot(df[\"Tempo\"], df[\"Preço (p)\"], linestyle='-', color='blue', label=\"Preço (p)\") #marker='o'\n",
        "\n",
        "# Configurações do gráfico\n",
        "plt.xlabel(\"Tempo\", fontsize=14)\n",
        "plt.ylabel(\"Preço (p)\", fontsize=14)\n",
        "plt.title(\"Evolução do Preço ao Longo do Tempo\")\n",
        "#plt.axhline(y=100, color='red', linestyle='--', label=\"Teto de 100 (se houver)\")\n",
        "plt.grid(True)\n",
        "#plt.legend()\n",
        "\n",
        "plt.tick_params(axis='x', labelsize=14)  # apenas eixo x\n",
        "plt.tick_params(axis='y', labelsize=14)  # apenas eixo y\n",
        "\n",
        "# Exibir o gráfico\n",
        "plt.show()\n"
      ]
    }
  ],
  "metadata": {
    "colab": {
      "provenance": [],
      "toc_visible": true
    },
    "kernelspec": {
      "display_name": "Python 3",
      "name": "python3"
    },
    "language_info": {
      "name": "python"
    }
  },
  "nbformat": 4,
  "nbformat_minor": 0
}